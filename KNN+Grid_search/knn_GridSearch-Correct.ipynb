{
 "cells": [
  {
   "cell_type": "code",
   "execution_count": 2,
   "metadata": {},
   "outputs": [],
   "source": [
    "import numpy as np\n",
    "import pandas as pd"
   ]
  },
  {
   "cell_type": "markdown",
   "metadata": {},
   "source": [
    "## Assignments\n",
    "\n",
    "### 1. train test split from scratch\n",
    "\n",
    "Create a function my_train_test_split() that takes ipnput X, y and fraction of train. And ouputs the list or tuple containing splits"
   ]
  },
  {
   "cell_type": "code",
   "execution_count": 3,
   "metadata": {},
   "outputs": [
    {
     "name": "stdout",
     "output_type": "stream",
     "text": [
      "data:\n",
      "[[ 1  2  0]\n",
      " [ 3  4  1]\n",
      " [ 5  6  1]\n",
      " [ 7  8  0]\n",
      " [ 9 10  1]\n",
      " [11 12  0]]\n"
     ]
    }
   ],
   "source": [
    "data = np.array([[1, 2, 0], [3, 4, 1], [5, 6, 1], [7, 8, 0], [9, 10, 1], [11, 12, 0]])\n",
    "print('data:')\n",
    "print(data)"
   ]
  },
  {
   "cell_type": "code",
   "execution_count": 4,
   "metadata": {},
   "outputs": [],
   "source": [
    "# Many issues with this function of yours\n",
    "\n",
    "# You were passing y as argument in your original code.\n",
    "# But the function body was never really using y\n",
    "\n",
    "# The split logic is using the variable named \"data\".\n",
    "# But the data variable is not a argument to this function\n",
    "# It was defined outside the function.\n",
    "# Hence, in essence you were passing something to be split into the function\n",
    "# but splitting on something totally different\n",
    "def my_train_test_split(data, split_percent= 0.8):  # I removed the X and y and kept data as the only input\n",
    "    split = int(data.shape[0] * split_percent)  #Your original code for this line was using X.\n",
    "    # X is not an input argument to this function. I changed it to data\n",
    "\n",
    "    # Split the data into training and testing sets\n",
    "    X_train = data[:split, :-1]\n",
    "    y_train = data[:split, -1]\n",
    "    X_test = data[split:, :-1]\n",
    "    y_test = data[split:, -1]\n",
    "\n",
    "    return X_train, y_train, X_test, y_test"
   ]
  },
  {
   "cell_type": "code",
   "execution_count": 5,
   "metadata": {},
   "outputs": [],
   "source": [
    "# Enhanced version of splitting that shuffles the input data\n",
    "def my_train_test_split(data, split_percent= 0.8):  # includes shuffling\n",
    "    split = int(data.shape[0] * split_percent)\n",
    "\n",
    "    # Split the data into training and testing sets\n",
    "    #X_train = data[:split, :-1]\n",
    "    #y_train = data[:split, -1]\n",
    "    #X_test = data[split:, :-1]\n",
    "    #y_test = data[split:, -1]\n",
    "\n",
    "    num_samples = data.shape[0]\n",
    "    shuffled_indices = np.random.choice(num_samples, num_samples, replace = False)\n",
    "    train_indices_split = shuffled_indices[:split]\n",
    "    test_indices_split = shuffled_indices[split:]\n",
    "\n",
    "    X_train = data[train_indices_split, :-1]\n",
    "    y_train = data[train_indices_split, -1]\n",
    "    X_test = data[test_indices_split, :-1]\n",
    "    y_test = data[test_indices_split, -1]\n",
    "\n",
    "    return X_train, y_train, X_test, y_test"
   ]
  },
  {
   "cell_type": "code",
   "execution_count": 6,
   "metadata": {},
   "outputs": [
    {
     "name": "stdout",
     "output_type": "stream",
     "text": [
      "X_train:\n",
      "[[ 7  8]\n",
      " [ 3  4]\n",
      " [ 1  2]\n",
      " [11 12]]\n",
      "y_train:\n",
      "[0 1 0 0]\n",
      "X_test:\n",
      "[[ 5  6]\n",
      " [ 9 10]]\n",
      "y_test:\n",
      "[1 1]\n"
     ]
    }
   ],
   "source": [
    "train_frac = 0.8  # 80% for training, 20% for testing\n",
    "\n",
    "X_train, y_train, X_test, y_test = my_train_test_split(data, train_frac)\n",
    "\n",
    "# Printing the results\n",
    "print(\"X_train:\")\n",
    "print(X_train)\n",
    "print(\"y_train:\")\n",
    "print(y_train)\n",
    "print(\"X_test:\")\n",
    "print(X_test)\n",
    "print(\"y_test:\")\n",
    "print(y_test)"
   ]
  },
  {
   "cell_type": "markdown",
   "metadata": {},
   "source": [
    "### 2. kNN from scratch"
   ]
  },
  {
   "cell_type": "code",
   "execution_count": 7,
   "metadata": {},
   "outputs": [],
   "source": [
    "# KNN class that allows setting the number of neighbours and weight=uniform or distance\n",
    "class KNN:\n",
    "    def __init__(self, k = 7): #Fill this out\n",
    "        self.k = k\n",
    "        #pass - After filling put the function, you have to remove this pass \n",
    "\n",
    "    def fit(self, X_train, y_train): # What is missing in function definition?\n",
    "        self.X_train = X_train\n",
    "        self.y_train = y_train\n",
    "        #pass - After filling put the function, you have to remove this pass \n",
    "\n",
    "    def euclidean_distance(self, x1, x2):\n",
    "        return np.sqrt(np.sum((x1 - x2) ** 2))\n",
    "\n",
    "    def predict(self, X_test): # What is missing in function definition?\n",
    "        # Corrected  tab indentation. Python is very picky about it \n",
    "        # is one of the top causes for bugs\n",
    "        y_pred = [self._predict(x) for x in X_test]\n",
    "        return np.array(y_pred)\n",
    "        #pass - After filling put the function, you have to remove this pass \n",
    "    \n",
    "    def _predict(self, x):\n",
    "        # Compute distances between x and all examples in the training set\n",
    "        distances = [self.euclidean_distance(x, x_train) for x_train in self.X_train]\n",
    "        \n",
    "        # Sort by distance and return indices of the first k neighbors\n",
    "        k_indices = np.argsort(distances)[:self.k]\n",
    "        \n",
    "        # Extract the labels of the k nearest neighbor training samples\n",
    "        k_nearest_labels = [self.y_train[i] for i in k_indices]\n",
    "        \n",
    "        # Return the most common class label\n",
    "        most_common = np.bincount(k_nearest_labels).argmax()\n",
    "        return most_common\n",
    "    \n",
    "    def evaluate(self, X_test, y_test):\n",
    "         y_pred = self.predict(X_test)\n",
    "         accuracy = sum(y_pred == y_test) / len(y_test)\n",
    "         return accuracy"
   ]
  },
  {
   "cell_type": "code",
   "execution_count": 8,
   "metadata": {},
   "outputs": [],
   "source": [
    "knn = KNN(k=7)\n",
    "knn.fit(X_train, y_train)"
   ]
  },
  {
   "cell_type": "code",
   "execution_count": 9,
   "metadata": {},
   "outputs": [],
   "source": [
    "y_pred = knn.predict(X_test)"
   ]
  },
  {
   "cell_type": "code",
   "execution_count": 10,
   "metadata": {},
   "outputs": [
    {
     "name": "stdout",
     "output_type": "stream",
     "text": [
      "Predicted Labels:\n",
      "[0 0]\n",
      "True Labels:\n",
      "[1 1]\n"
     ]
    }
   ],
   "source": [
    "print(\"Predicted Labels:\")\n",
    "print(y_pred)\n",
    "print(\"True Labels:\")\n",
    "print(y_test)"
   ]
  },
  {
   "cell_type": "code",
   "execution_count": 11,
   "metadata": {},
   "outputs": [
    {
     "name": "stdout",
     "output_type": "stream",
     "text": [
      "[0.0, 0.0, 0.0, 0.0, 0.0, 0.0, 0.0, 0.0, 0.0, 0.0, 0.0, 0.0, 0.0, 0.0, 0.0, 0.0, 0.0, 0.0, 0.0, 0.0, 0.0, 0.0, 0.0, 0.0, 0.0, 0.0, 0.0, 0.0, 0.0]\n"
     ]
    }
   ],
   "source": [
    "accuracies = []\n",
    "ks = range(1,30)\n",
    "for k in ks:\n",
    "    knn.fit(X_train, y_train)\n",
    "    accuracy = knn.evaluate(X_test, y_test)\n",
    "    accuracies.append(accuracy)\n",
    "\n",
    "print(accuracies)"
   ]
  },
  {
   "cell_type": "markdown",
   "metadata": {},
   "source": [
    "##### Using IRIS data with your custom KNN"
   ]
  },
  {
   "cell_type": "code",
   "execution_count": 13,
   "metadata": {},
   "outputs": [
    {
     "data": {
      "text/html": [
       "<div>\n",
       "<style scoped>\n",
       "    .dataframe tbody tr th:only-of-type {\n",
       "        vertical-align: middle;\n",
       "    }\n",
       "\n",
       "    .dataframe tbody tr th {\n",
       "        vertical-align: top;\n",
       "    }\n",
       "\n",
       "    .dataframe thead th {\n",
       "        text-align: right;\n",
       "    }\n",
       "</style>\n",
       "<table border=\"1\" class=\"dataframe\">\n",
       "  <thead>\n",
       "    <tr style=\"text-align: right;\">\n",
       "      <th></th>\n",
       "      <th>sepal length (cm)</th>\n",
       "      <th>sepal width (cm)</th>\n",
       "      <th>petal length (cm)</th>\n",
       "      <th>petal width (cm)</th>\n",
       "      <th>target</th>\n",
       "    </tr>\n",
       "  </thead>\n",
       "  <tbody>\n",
       "    <tr>\n",
       "      <th>0</th>\n",
       "      <td>5.1</td>\n",
       "      <td>3.5</td>\n",
       "      <td>1.4</td>\n",
       "      <td>0.2</td>\n",
       "      <td>0</td>\n",
       "    </tr>\n",
       "    <tr>\n",
       "      <th>1</th>\n",
       "      <td>4.9</td>\n",
       "      <td>3.0</td>\n",
       "      <td>1.4</td>\n",
       "      <td>0.2</td>\n",
       "      <td>0</td>\n",
       "    </tr>\n",
       "    <tr>\n",
       "      <th>2</th>\n",
       "      <td>4.7</td>\n",
       "      <td>3.2</td>\n",
       "      <td>1.3</td>\n",
       "      <td>0.2</td>\n",
       "      <td>0</td>\n",
       "    </tr>\n",
       "    <tr>\n",
       "      <th>3</th>\n",
       "      <td>4.6</td>\n",
       "      <td>3.1</td>\n",
       "      <td>1.5</td>\n",
       "      <td>0.2</td>\n",
       "      <td>0</td>\n",
       "    </tr>\n",
       "    <tr>\n",
       "      <th>4</th>\n",
       "      <td>5.0</td>\n",
       "      <td>3.6</td>\n",
       "      <td>1.4</td>\n",
       "      <td>0.2</td>\n",
       "      <td>0</td>\n",
       "    </tr>\n",
       "  </tbody>\n",
       "</table>\n",
       "</div>"
      ],
      "text/plain": [
       "   sepal length (cm)  sepal width (cm)  petal length (cm)  petal width (cm)  \\\n",
       "0                5.1               3.5                1.4               0.2   \n",
       "1                4.9               3.0                1.4               0.2   \n",
       "2                4.7               3.2                1.3               0.2   \n",
       "3                4.6               3.1                1.5               0.2   \n",
       "4                5.0               3.6                1.4               0.2   \n",
       "\n",
       "   target  \n",
       "0       0  \n",
       "1       0  \n",
       "2       0  \n",
       "3       0  \n",
       "4       0  "
      ]
     },
     "execution_count": 13,
     "metadata": {},
     "output_type": "execute_result"
    }
   ],
   "source": [
    "from sklearn.datasets import load_iris\n",
    "\n",
    "# save \"bunch\" object containing iris dataset and its attributes\n",
    "iris = load_iris()\n",
    "\n",
    "#store feature matrix in dataframe\n",
    "df = pd.DataFrame(iris.data, columns=iris.feature_names)\n",
    "\n",
    "# Add the target variable to the dataframe\n",
    "df['target'] = iris.target\n",
    "\n",
    "# Print the first 5 rows of the dataframe\n",
    "df.head()"
   ]
  },
  {
   "cell_type": "code",
   "execution_count": 14,
   "metadata": {},
   "outputs": [
    {
     "data": {
      "text/plain": [
       "(array([[5.1, 3.7, 1.5, 0.4],\n",
       "        [5.6, 2.7, 4.2, 1.3],\n",
       "        [6.1, 3. , 4.6, 1.4],\n",
       "        [7.4, 2.8, 6.1, 1.9],\n",
       "        [5.1, 3.5, 1.4, 0.3],\n",
       "        [6.8, 3.2, 5.9, 2.3],\n",
       "        [6. , 2.7, 5.1, 1.6],\n",
       "        [5.2, 4.1, 1.5, 0.1],\n",
       "        [6.9, 3.1, 5.1, 2.3],\n",
       "        [5. , 3.3, 1.4, 0.2],\n",
       "        [6.1, 2.9, 4.7, 1.4],\n",
       "        [6.7, 3. , 5.2, 2.3],\n",
       "        [5.9, 3. , 4.2, 1.5],\n",
       "        [6.2, 2.2, 4.5, 1.5],\n",
       "        [5.9, 3. , 5.1, 1.8],\n",
       "        [7.3, 2.9, 6.3, 1.8],\n",
       "        [5.1, 3.8, 1.6, 0.2],\n",
       "        [5.1, 3.5, 1.4, 0.2],\n",
       "        [6.5, 2.8, 4.6, 1.5],\n",
       "        [4.7, 3.2, 1.6, 0.2],\n",
       "        [5. , 3.6, 1.4, 0.2],\n",
       "        [6.5, 3.2, 5.1, 2. ],\n",
       "        [4.6, 3.4, 1.4, 0.3],\n",
       "        [4.9, 2.5, 4.5, 1.7],\n",
       "        [6.4, 3.1, 5.5, 1.8],\n",
       "        [7.9, 3.8, 6.4, 2. ],\n",
       "        [4.8, 3. , 1.4, 0.1],\n",
       "        [4.7, 3.2, 1.3, 0.2],\n",
       "        [4.6, 3.6, 1. , 0.2],\n",
       "        [6.3, 2.5, 5. , 1.9],\n",
       "        [7.6, 3. , 6.6, 2.1],\n",
       "        [6.3, 2.3, 4.4, 1.3],\n",
       "        [4.8, 3.4, 1.9, 0.2],\n",
       "        [4.4, 2.9, 1.4, 0.2],\n",
       "        [5.5, 2.4, 3.8, 1.1],\n",
       "        [6. , 3. , 4.8, 1.8],\n",
       "        [5.8, 4. , 1.2, 0.2],\n",
       "        [7.7, 2.8, 6.7, 2. ],\n",
       "        [6.6, 2.9, 4.6, 1.3],\n",
       "        [6.1, 2.8, 4.7, 1.2],\n",
       "        [4.6, 3.2, 1.4, 0.2],\n",
       "        [5.6, 2.8, 4.9, 2. ],\n",
       "        [5.8, 2.8, 5.1, 2.4],\n",
       "        [5.6, 3. , 4.1, 1.3],\n",
       "        [5.7, 2.8, 4.1, 1.3],\n",
       "        [4.8, 3.1, 1.6, 0.2],\n",
       "        [5.4, 3. , 4.5, 1.5],\n",
       "        [4.8, 3. , 1.4, 0.3],\n",
       "        [7.2, 3. , 5.8, 1.6],\n",
       "        [6.1, 3. , 4.9, 1.8],\n",
       "        [6.5, 3. , 5.5, 1.8],\n",
       "        [6.4, 3.2, 4.5, 1.5],\n",
       "        [6.4, 2.8, 5.6, 2.1],\n",
       "        [5.5, 2.4, 3.7, 1. ],\n",
       "        [6.3, 3.3, 6. , 2.5],\n",
       "        [5.1, 3.4, 1.5, 0.2],\n",
       "        [5.2, 2.7, 3.9, 1.4],\n",
       "        [5.8, 2.7, 3.9, 1.2],\n",
       "        [7.2, 3.6, 6.1, 2.5],\n",
       "        [4.9, 3. , 1.4, 0.2],\n",
       "        [6. , 3.4, 4.5, 1.6],\n",
       "        [6.2, 2.8, 4.8, 1.8],\n",
       "        [4.9, 3.1, 1.5, 0.2],\n",
       "        [4.3, 3. , 1.1, 0.1],\n",
       "        [5.2, 3.5, 1.5, 0.2],\n",
       "        [5.4, 3.4, 1.5, 0.4],\n",
       "        [5. , 3.4, 1.6, 0.4],\n",
       "        [6.3, 2.9, 5.6, 1.8],\n",
       "        [4.4, 3.2, 1.3, 0.2],\n",
       "        [5. , 3.4, 1.5, 0.2],\n",
       "        [6.3, 3.4, 5.6, 2.4],\n",
       "        [5.6, 3. , 4.5, 1.5],\n",
       "        [5.4, 3.4, 1.7, 0.2],\n",
       "        [5.7, 2.5, 5. , 2. ],\n",
       "        [4.9, 3.6, 1.4, 0.1],\n",
       "        [6.2, 2.9, 4.3, 1.3],\n",
       "        [6.7, 3.1, 4.7, 1.5],\n",
       "        [6.4, 2.9, 4.3, 1.3],\n",
       "        [6. , 2.9, 4.5, 1.5],\n",
       "        [6.1, 2.8, 4. , 1.3],\n",
       "        [5.7, 2.6, 3.5, 1. ],\n",
       "        [5.3, 3.7, 1.5, 0.2],\n",
       "        [5.9, 3.2, 4.8, 1.8],\n",
       "        [5.7, 3.8, 1.7, 0.3],\n",
       "        [5.1, 3.3, 1.7, 0.5],\n",
       "        [5.7, 3. , 4.2, 1.2],\n",
       "        [5.8, 2.7, 4.1, 1. ],\n",
       "        [5. , 3. , 1.6, 0.2],\n",
       "        [5.5, 3.5, 1.3, 0.2],\n",
       "        [6.2, 3.4, 5.4, 2.3],\n",
       "        [6.1, 2.6, 5.6, 1.4],\n",
       "        [5. , 2.3, 3.3, 1. ],\n",
       "        [5.7, 2.9, 4.2, 1.3],\n",
       "        [6.7, 2.5, 5.8, 1.8],\n",
       "        [6.4, 2.7, 5.3, 1.9],\n",
       "        [5.1, 3.8, 1.5, 0.3],\n",
       "        [6.3, 2.5, 4.9, 1.5],\n",
       "        [6.9, 3.1, 4.9, 1.5],\n",
       "        [6.4, 2.8, 5.6, 2.2],\n",
       "        [7.1, 3. , 5.9, 2.1],\n",
       "        [5. , 3.5, 1.3, 0.3],\n",
       "        [5. , 3.5, 1.6, 0.6],\n",
       "        [5.5, 2.3, 4. , 1.3],\n",
       "        [6. , 2.2, 4. , 1. ],\n",
       "        [4.9, 2.4, 3.3, 1. ],\n",
       "        [6.7, 3.3, 5.7, 2.1],\n",
       "        [7.2, 3.2, 6. , 1.8],\n",
       "        [5.4, 3.9, 1.7, 0.4],\n",
       "        [5.8, 2.7, 5.1, 1.9],\n",
       "        [7.7, 3.8, 6.7, 2.2],\n",
       "        [6.6, 3. , 4.4, 1.4],\n",
       "        [6.8, 2.8, 4.8, 1.4],\n",
       "        [5.8, 2.7, 5.1, 1.9],\n",
       "        [7.7, 2.6, 6.9, 2.3],\n",
       "        [7. , 3.2, 4.7, 1.4],\n",
       "        [7.7, 3. , 6.1, 2.3],\n",
       "        [5.5, 2.6, 4.4, 1.2],\n",
       "        [6.3, 2.7, 4.9, 1.8],\n",
       "        [5.2, 3.4, 1.4, 0.2],\n",
       "        [5.4, 3.7, 1.5, 0.2]]),\n",
       " array([0., 1., 1., 2., 0., 2., 1., 0., 2., 0., 1., 2., 1., 1., 2., 2., 0.,\n",
       "        0., 1., 0., 0., 2., 0., 2., 2., 2., 0., 0., 0., 2., 2., 1., 0., 0.,\n",
       "        1., 2., 0., 2., 1., 1., 0., 2., 2., 1., 1., 0., 1., 0., 2., 2., 2.,\n",
       "        1., 2., 1., 2., 0., 1., 1., 2., 0., 1., 2., 0., 0., 0., 0., 0., 2.,\n",
       "        0., 0., 2., 1., 0., 2., 0., 1., 1., 1., 1., 1., 1., 0., 1., 0., 0.,\n",
       "        1., 1., 0., 0., 2., 2., 1., 1., 2., 2., 0., 1., 1., 2., 2., 0., 0.,\n",
       "        1., 1., 1., 2., 2., 0., 2., 2., 1., 1., 2., 2., 1., 2., 1., 2., 0.,\n",
       "        0.]))"
      ]
     },
     "execution_count": 14,
     "metadata": {},
     "output_type": "execute_result"
    }
   ],
   "source": [
    "train_frac = 0.8  # 80% for training, 20% for testing\n",
    "\n",
    "X_train, y_train, X_test, y_test = my_train_test_split(df.to_numpy(), train_frac)\n",
    "X_train, y_train"
   ]
  },
  {
   "cell_type": "code",
   "execution_count": 15,
   "metadata": {},
   "outputs": [],
   "source": [
    "knn = KNN(k=7)\n",
    "knn.fit(X_train, y_train)"
   ]
  },
  {
   "cell_type": "code",
   "execution_count": 16,
   "metadata": {},
   "outputs": [
    {
     "name": "stdout",
     "output_type": "stream",
     "text": [
      "Predicted Labels:\n",
      "[0 1 2 1 2 1 1 2 0 1 0 0 2 2 0 1 2 0 1 2 0 1 2 1 2 2 0 1 0 0]\n",
      "True Labels:\n",
      "[0. 1. 2. 1. 2. 1. 1. 2. 0. 1. 0. 0. 2. 2. 0. 1. 2. 0. 1. 2. 0. 1. 2. 1.\n",
      " 2. 2. 0. 1. 0. 0.]\n"
     ]
    }
   ],
   "source": [
    "y_pred = knn.predict(X_test)\n",
    "print(\"Predicted Labels:\")\n",
    "print(y_pred)\n",
    "print(\"True Labels:\")\n",
    "print(y_test)"
   ]
  },
  {
   "cell_type": "code",
   "execution_count": 17,
   "metadata": {},
   "outputs": [
    {
     "name": "stdout",
     "output_type": "stream",
     "text": [
      "[1.0, 1.0, 1.0, 1.0, 1.0, 1.0, 1.0, 1.0, 1.0, 1.0, 1.0, 1.0, 1.0, 1.0, 1.0, 1.0, 1.0, 1.0, 1.0, 1.0, 1.0, 1.0, 1.0, 1.0, 1.0, 1.0, 1.0, 1.0, 1.0]\n"
     ]
    }
   ],
   "source": [
    "accuracies = []\n",
    "ks = range(1,30)\n",
    "for k in ks:\n",
    "    knn.fit(X_train, y_train)\n",
    "    accuracy = knn.evaluate(X_test, y_test)\n",
    "    accuracies.append(accuracy)\n",
    "\n",
    "print(accuracies)"
   ]
  },
  {
   "cell_type": "markdown",
   "metadata": {},
   "source": [
    "### 3. GridSearch from scratch\n",
    "\n",
    "1. Grid search should happen over two hyperparameters - k and weight.\n",
    "2. This means the k and weights should really be defined as instance variables for KNN class "
   ]
  },
  {
   "cell_type": "code",
   "execution_count": 18,
   "metadata": {},
   "outputs": [],
   "source": [
    "k_values = list(range(3, 8, 2))\n",
    "weight_values = ['uniform', 'distance']\n",
    "\n",
    "best_accuracy = 0\n",
    "best_k = None\n",
    "best_metric = None"
   ]
  },
  {
   "cell_type": "code",
   "execution_count": 19,
   "metadata": {},
   "outputs": [],
   "source": [
    "# KNN class that allows setting the number of neighbours and weight=uniform or distance\n",
    "class KNN:\n",
    "    def __init__(self, k = 7, weight=\"uniform\"):\n",
    "        self.k = k\n",
    "        self.weight = weight\n",
    "        self\n",
    "\n",
    "    def fit(self, X_train, y_train):\n",
    "        self.X_train = X_train\n",
    "        self.y_train = y_train\n",
    "\n",
    "    def euclidean_distance(self, x1, x2):\n",
    "        return np.sqrt(np.sum((x1 - x2) ** 2))\n",
    "\n",
    "    def predict(self, X_test):\n",
    "            y_pred = [self._predict(x) for x in X_test]\n",
    "            return np.array(y_pred)\n",
    "    \n",
    "    def _predict(self, x):\n",
    "        # Compute distances between x and all examples in the training set\n",
    "        distances = [self.euclidean_distance(x, x_train) for x_train in self.X_train]\n",
    "        \n",
    "        # Sort by distance and return indices of the first k neighbors\n",
    "        k_indices = np.argsort(distances)[:self.k]\n",
    "        \n",
    "        # Extract the labels of the k nearest neighbor training samples\n",
    "        k_nearest_labels = [self.y_train[i] for i in k_indices]\n",
    "        \n",
    "        # TODO: This line of evaluating the k will change when you have to support \n",
    "        # hyperparameters for weight=uniform and distance\n",
    "        # the code you have only supports uniform.\n",
    "        # Add the code to support distance\n",
    "        # Weight each k nearest point by 1/distance-squared\n",
    "\n",
    "        # Return the most common class label\n",
    "        most_common = np.bincount(k_nearest_labels).argmax()\n",
    "        return most_common\n",
    "    \n",
    "    def evaluate(self, X_test, y_test):\n",
    "         y_pred = self.predict(X_test)\n",
    "         accuracy = sum(y_pred == y_test) / len(y_test)\n",
    "         return accuracy"
   ]
  },
  {
   "cell_type": "code",
   "execution_count": 20,
   "metadata": {},
   "outputs": [
    {
     "name": "stdout",
     "output_type": "stream",
     "text": [
      "Best k: 3\n",
      "Best weight: uniform\n",
      "Best accuracy: 96.67%\n"
     ]
    }
   ],
   "source": [
    "\n",
    "from itertools import product\n",
    "        \n",
    "for k, weight in product(k_values, weight_values):\n",
    "    knn = KNN(k = 5, weight = 'distance')\n",
    "    knn.fit(X_train, y_train)\n",
    "    accuracy = knn.evaluate(X_test, y_test)\n",
    "\n",
    "    if accuracy > best_accuracy:\n",
    "            best_accuracy = accuracy\n",
    "            best_k = k\n",
    "            best_metric = weight\n",
    "\n",
    "print(f\"Best k: {best_k}\")\n",
    "print(f\"Best weight: {best_metric}\")\n",
    "print(f\"Best accuracy: {best_accuracy * 100:.2f}%\")  "
   ]
  },
  {
   "cell_type": "code",
   "execution_count": null,
   "metadata": {},
   "outputs": [],
   "source": []
  }
 ],
 "metadata": {
  "kernelspec": {
   "display_name": "quickstart",
   "language": "python",
   "name": "python3"
  },
  "language_info": {
   "codemirror_mode": {
    "name": "ipython",
    "version": 3
   },
   "file_extension": ".py",
   "mimetype": "text/x-python",
   "name": "python",
   "nbconvert_exporter": "python",
   "pygments_lexer": "ipython3",
   "version": "3.9.17"
  },
  "orig_nbformat": 4
 },
 "nbformat": 4,
 "nbformat_minor": 2
}
