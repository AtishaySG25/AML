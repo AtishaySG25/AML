{
 "cells": [
  {
   "cell_type": "code",
   "execution_count": 4,
   "metadata": {},
   "outputs": [],
   "source": [
    "import numpy as np\n",
    "\n",
    "def mean_squared_error(y_true, y_pred):\n",
    "    return np.mean((y_true - y_pred) ** 2)\n",
    "\n",
    "def gradient_descent(X, y, theta, learning_rate, iterations):\n",
    "    m = len(y)\n",
    "    losses = []\n",
    "\n",
    "    for _ in range(iterations):\n",
    "        y_pred = X.dot(theta)\n",
    "        gradient = (1 / m) * X.T.dot(y_pred - y)\n",
    "        theta -= learning_rate * gradient\n",
    "\n",
    "        # Calculate and store the loss\n",
    "        loss = mean_squared_error(y, X.dot(theta))\n",
    "        losses.append(loss)\n",
    "\n",
    "    return theta, losses\n"
   ]
  },
  {
   "cell_type": "code",
   "execution_count": 7,
   "metadata": {},
   "outputs": [
    {
     "ename": "ImportError",
     "evalue": "cannot import name 'train_test_split' from 'sklearn' (c:\\Users\\ATISHAY SG\\anaconda3\\envs\\AIMLSem1\\lib\\site-packages\\sklearn\\__init__.py)",
     "output_type": "error",
     "traceback": [
      "\u001b[1;31m---------------------------------------------------------------------------\u001b[0m",
      "\u001b[1;31mImportError\u001b[0m                               Traceback (most recent call last)",
      "\u001b[1;32md:\\AML\\Linerar_Regression\\Vectorized_Linear_Regression.ipynb Cell 2\u001b[0m line \u001b[0;36m3\n\u001b[0;32m      <a href='vscode-notebook-cell:/d%3A/AML/Linerar_Regression/Vectorized_Linear_Regression.ipynb#W1sZmlsZQ%3D%3D?line=0'>1</a>\u001b[0m \u001b[39m#from sklearn.model_selection import train_test_split\u001b[39;00m\n\u001b[0;32m      <a href='vscode-notebook-cell:/d%3A/AML/Linerar_Regression/Vectorized_Linear_Regression.ipynb#W1sZmlsZQ%3D%3D?line=1'>2</a>\u001b[0m \u001b[39mimport\u001b[39;00m \u001b[39mmatplotlib\u001b[39;00m\u001b[39m.\u001b[39;00m\u001b[39mpyplot\u001b[39;00m \u001b[39mas\u001b[39;00m \u001b[39mplt\u001b[39;00m\n\u001b[1;32m----> <a href='vscode-notebook-cell:/d%3A/AML/Linerar_Regression/Vectorized_Linear_Regression.ipynb#W1sZmlsZQ%3D%3D?line=2'>3</a>\u001b[0m \u001b[39mfrom\u001b[39;00m \u001b[39msklearn\u001b[39;00m \u001b[39mimport\u001b[39;00m train_test_split\n\u001b[0;32m      <a href='vscode-notebook-cell:/d%3A/AML/Linerar_Regression/Vectorized_Linear_Regression.ipynb#W1sZmlsZQ%3D%3D?line=4'>5</a>\u001b[0m dfUber \u001b[39m=\u001b[39m pd\u001b[39m.\u001b[39mread_csv(\u001b[39m'\u001b[39m\u001b[39mD://AML//Linerar_Regression//uber.csv\u001b[39m\u001b[39m'\u001b[39m)\n\u001b[0;32m      <a href='vscode-notebook-cell:/d%3A/AML/Linerar_Regression/Vectorized_Linear_Regression.ipynb#W1sZmlsZQ%3D%3D?line=5'>6</a>\u001b[0m X, y \u001b[39m=\u001b[39m dfUber\u001b[39m.\u001b[39mfare_amount, dfUber\u001b[39m.\u001b[39mpassenger_count\n",
      "\u001b[1;31mImportError\u001b[0m: cannot import name 'train_test_split' from 'sklearn' (c:\\Users\\ATISHAY SG\\anaconda3\\envs\\AIMLSem1\\lib\\site-packages\\sklearn\\__init__.py)"
     ]
    }
   ],
   "source": [
    "#from sklearn.model_selection import train_test_split\n",
    "import matplotlib.pyplot as plt\n",
    "from sklearn import train_test_split\n",
    "\n",
    "dfUber = pd.read_csv('D://AML//Linerar_Regression//uber.csv')\n",
    "X, y = dfUber.fare_amount, dfUber.passenger_count\n",
    "X = np.c_[np.ones(X.shape[0]), X]  # Add a bias term (intercept)\n",
    "\n",
    "# Split the data into training and testing sets\n",
    "X_train, X_test, y_train, y_test = train_test_split(X, y, test_size=0.2, random_state=42)\n",
    "\n",
    "# Initialize theta and hyperparameters\n",
    "theta = np.zeros(X_train.shape[1])\n",
    "learning_rate = 0.01\n",
    "iterations = 1000\n",
    "\n",
    "# Run gradient descent and collect losses\n",
    "theta, losses = gradient_descent(X_train, y_train, theta, learning_rate, iterations)\n",
    "\n",
    "# Plot the loss curve\n",
    "plt.plot(range(iterations), losses)\n",
    "plt.xlabel('Epoch/Iteration')\n",
    "plt.ylabel('Loss')\n",
    "plt.title('Epoch/Iteration vs. Loss')\n",
    "plt.show()\n"
   ]
  },
  {
   "cell_type": "code",
   "execution_count": null,
   "metadata": {},
   "outputs": [],
   "source": [
    "from sklearn.linear_model import LinearRegression\n",
    "from sklearn.metrics import r2_score\n",
    "import time\n",
    "\n",
    "# Train a LinearRegression model\n",
    "start_time = time.time()\n",
    "sklearn_model = LinearRegression()\n",
    "sklearn_model.fit(X_train, y_train)\n",
    "sklearn_pred = sklearn_model.predict(X_test)\n",
    "sklearn_time = time.time() - start_time\n",
    "\n",
    "# Calculate R^2 score\n",
    "sklearn_r2 = r2_score(y_test, sklearn_pred)\n",
    "\n",
    "# Print results\n",
    "print(\"Time taken by sklearn LinearRegression: {:.4f} seconds\".format(sklearn_time))\n",
    "print(\"R^2 score using sklearn LinearRegression: {:.4f}\".format(sklearn_r2))\n"
   ]
  }
 ],
 "metadata": {
  "kernelspec": {
   "display_name": "AIMLSem1",
   "language": "python",
   "name": "python3"
  },
  "language_info": {
   "codemirror_mode": {
    "name": "ipython",
    "version": 3
   },
   "file_extension": ".py",
   "mimetype": "text/x-python",
   "name": "python",
   "nbconvert_exporter": "python",
   "pygments_lexer": "ipython3",
   "version": "3.9.17"
  }
 },
 "nbformat": 4,
 "nbformat_minor": 2
}
