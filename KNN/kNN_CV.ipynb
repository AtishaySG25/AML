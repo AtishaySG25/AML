{
 "cells": [
  {
   "cell_type": "markdown",
   "metadata": {},
   "source": [
    "# kNN\n",
    "\n",
    "\n",
    "## Table of Contents\n",
    "\n",
    "**kNN with scikit-learn**\n",
    "1. [kNN based plain vanilla ML steps](#knn-vanilla)\n",
    "2. [Cross validation for k using scikit learn API](#cv)\n",
    "3. [GridSearch & RandomSearch for multiple hyperparameter tuning](#gridsearch)\n",
    "4. [Beyond GridSearch - Lack of stability even after GridSearchCV (Optional)](#beyond-gridsearch)\n",
    "5. [Cross validation from scratch](cv-from-scratch)\n",
    "\n",
    "**Assignments**\n",
    "1. [train test split from scratch](#train-test-scratch)\n",
    "2. [kNN from scratch](#knn-scratch)\n",
    "3. [GridSearch from scratch](#gridsearch-scratch)\n",
    "4. [Integrate your custom code](#integrate)"
   ]
  },
  {
   "cell_type": "code",
   "execution_count": 1,
   "metadata": {},
   "outputs": [],
   "source": [
    "import numpy as np\n",
    "import pandas as pd\n",
    "\n",
    "import sklearn as sk"
   ]
  },
  {
   "cell_type": "code",
   "execution_count": 2,
   "metadata": {},
   "outputs": [
    {
     "name": "stdout",
     "output_type": "stream",
     "text": [
      "numpy version = 1.23.5\n",
      "sklearn version = 1.2.2\n"
     ]
    }
   ],
   "source": [
    "print(f\"numpy version = {np.__version__}\")  #Check the numpy version for sanity check\n",
    "print(f\"sklearn version = {sk.__version__}\")"
   ]
  },
  {
   "cell_type": "markdown",
   "metadata": {},
   "source": [
    "<a id='knn-vanilla'></a>\n",
    "<hr/>"
   ]
  },
  {
   "cell_type": "markdown",
   "metadata": {},
   "source": [
    "## kNN with scikit-learn\n",
    "\n",
    "### 1. kNN based plain vanilla ML steps\n",
    "\n",
    "##### 1.1 Acquire and load data"
   ]
  },
  {
   "cell_type": "code",
   "execution_count": 2,
   "metadata": {},
   "outputs": [],
   "source": [
    "# import load_iris function from datasets module\n",
    "from sklearn.datasets import load_iris\n",
    "\n",
    "# save \"bunch\" object containing iris dataset and its attributes\n",
    "iris = load_iris()\n",
    "\n",
    "#store feature matrix in dataframe\n",
    "df = pd.DataFrame(iris.data, columns=iris.feature_names)\n",
    "\n",
    "# store response vector in \"y\"\n",
    "y = iris.target"
   ]
  },
  {
   "cell_type": "code",
   "execution_count": 3,
   "metadata": {},
   "outputs": [
    {
     "name": "stdout",
     "output_type": "stream",
     "text": [
      "(150, 4)\n",
      "(150,)\n"
     ]
    }
   ],
   "source": [
    "# print the shapes of X and y\n",
    "print(df.shape)\n",
    "print(y.shape)"
   ]
  },
  {
   "cell_type": "markdown",
   "metadata": {},
   "source": [
    "##### 1.2 3 step ML process\n",
    "\n",
    "1. Model Selection\n",
    "2. Model Training (plus Tuning)\n",
    "3. Model Evaluation"
   ]
  },
  {
   "cell_type": "code",
   "execution_count": 5,
   "metadata": {},
   "outputs": [],
   "source": [
    "# Start by train/test split data with random_state \n",
    "\n",
    "from sklearn.model_selection import train_test_split\n",
    "\n",
    "X_train, X_test, y_train, y_test = train_test_split(df, y, random_state=4)"
   ]
  },
  {
   "cell_type": "code",
   "execution_count": 6,
   "metadata": {},
   "outputs": [
    {
     "name": "stdout",
     "output_type": "stream",
     "text": [
      "type(X_train)=<class 'pandas.core.frame.DataFrame'>\n",
      "type(y_train)=<class 'numpy.ndarray'>\n"
     ]
    }
   ],
   "source": [
    "print(f\"type(X_train)={type(X_train)}\") # when dataframe is passed, the split is also dataframe\n",
    "print(f\"type(y_train)={type(y_train)}\")"
   ]
  },
  {
   "cell_type": "code",
   "execution_count": 7,
   "metadata": {},
   "outputs": [],
   "source": [
    "# 1. Model Selection\n",
    "# import the algorithm instantiate the algorithm class\n",
    "from sklearn.neighbors import KNeighborsClassifier \n",
    "\n",
    "knn = KNeighborsClassifier(n_neighbors=1)"
   ]
  },
  {
   "cell_type": "code",
   "execution_count": 16,
   "metadata": {},
   "outputs": [
    {
     "data": {
      "text/html": [
       "<style>#sk-container-id-3 {color: black;background-color: white;}#sk-container-id-3 pre{padding: 0;}#sk-container-id-3 div.sk-toggleable {background-color: white;}#sk-container-id-3 label.sk-toggleable__label {cursor: pointer;display: block;width: 100%;margin-bottom: 0;padding: 0.3em;box-sizing: border-box;text-align: center;}#sk-container-id-3 label.sk-toggleable__label-arrow:before {content: \"▸\";float: left;margin-right: 0.25em;color: #696969;}#sk-container-id-3 label.sk-toggleable__label-arrow:hover:before {color: black;}#sk-container-id-3 div.sk-estimator:hover label.sk-toggleable__label-arrow:before {color: black;}#sk-container-id-3 div.sk-toggleable__content {max-height: 0;max-width: 0;overflow: hidden;text-align: left;background-color: #f0f8ff;}#sk-container-id-3 div.sk-toggleable__content pre {margin: 0.2em;color: black;border-radius: 0.25em;background-color: #f0f8ff;}#sk-container-id-3 input.sk-toggleable__control:checked~div.sk-toggleable__content {max-height: 200px;max-width: 100%;overflow: auto;}#sk-container-id-3 input.sk-toggleable__control:checked~label.sk-toggleable__label-arrow:before {content: \"▾\";}#sk-container-id-3 div.sk-estimator input.sk-toggleable__control:checked~label.sk-toggleable__label {background-color: #d4ebff;}#sk-container-id-3 div.sk-label input.sk-toggleable__control:checked~label.sk-toggleable__label {background-color: #d4ebff;}#sk-container-id-3 input.sk-hidden--visually {border: 0;clip: rect(1px 1px 1px 1px);clip: rect(1px, 1px, 1px, 1px);height: 1px;margin: -1px;overflow: hidden;padding: 0;position: absolute;width: 1px;}#sk-container-id-3 div.sk-estimator {font-family: monospace;background-color: #f0f8ff;border: 1px dotted black;border-radius: 0.25em;box-sizing: border-box;margin-bottom: 0.5em;}#sk-container-id-3 div.sk-estimator:hover {background-color: #d4ebff;}#sk-container-id-3 div.sk-parallel-item::after {content: \"\";width: 100%;border-bottom: 1px solid gray;flex-grow: 1;}#sk-container-id-3 div.sk-label:hover label.sk-toggleable__label {background-color: #d4ebff;}#sk-container-id-3 div.sk-serial::before {content: \"\";position: absolute;border-left: 1px solid gray;box-sizing: border-box;top: 0;bottom: 0;left: 50%;z-index: 0;}#sk-container-id-3 div.sk-serial {display: flex;flex-direction: column;align-items: center;background-color: white;padding-right: 0.2em;padding-left: 0.2em;position: relative;}#sk-container-id-3 div.sk-item {position: relative;z-index: 1;}#sk-container-id-3 div.sk-parallel {display: flex;align-items: stretch;justify-content: center;background-color: white;position: relative;}#sk-container-id-3 div.sk-item::before, #sk-container-id-3 div.sk-parallel-item::before {content: \"\";position: absolute;border-left: 1px solid gray;box-sizing: border-box;top: 0;bottom: 0;left: 50%;z-index: -1;}#sk-container-id-3 div.sk-parallel-item {display: flex;flex-direction: column;z-index: 1;position: relative;background-color: white;}#sk-container-id-3 div.sk-parallel-item:first-child::after {align-self: flex-end;width: 50%;}#sk-container-id-3 div.sk-parallel-item:last-child::after {align-self: flex-start;width: 50%;}#sk-container-id-3 div.sk-parallel-item:only-child::after {width: 0;}#sk-container-id-3 div.sk-dashed-wrapped {border: 1px dashed gray;margin: 0 0.4em 0.5em 0.4em;box-sizing: border-box;padding-bottom: 0.4em;background-color: white;}#sk-container-id-3 div.sk-label label {font-family: monospace;font-weight: bold;display: inline-block;line-height: 1.2em;}#sk-container-id-3 div.sk-label-container {text-align: center;}#sk-container-id-3 div.sk-container {/* jupyter's `normalize.less` sets `[hidden] { display: none; }` but bootstrap.min.css set `[hidden] { display: none !important; }` so we also need the `!important` here to be able to override the default hidden behavior on the sphinx rendered scikit-learn.org. See: https://github.com/scikit-learn/scikit-learn/issues/21755 */display: inline-block !important;position: relative;}#sk-container-id-3 div.sk-text-repr-fallback {display: none;}</style><div id=\"sk-container-id-3\" class=\"sk-top-container\"><div class=\"sk-text-repr-fallback\"><pre>KNeighborsClassifier(n_neighbors=19)</pre><b>In a Jupyter environment, please rerun this cell to show the HTML representation or trust the notebook. <br />On GitHub, the HTML representation is unable to render, please try loading this page with nbviewer.org.</b></div><div class=\"sk-container\" hidden><div class=\"sk-item\"><div class=\"sk-estimator sk-toggleable\"><input class=\"sk-toggleable__control sk-hidden--visually\" id=\"sk-estimator-id-3\" type=\"checkbox\" checked><label for=\"sk-estimator-id-3\" class=\"sk-toggleable__label sk-toggleable__label-arrow\">KNeighborsClassifier</label><div class=\"sk-toggleable__content\"><pre>KNeighborsClassifier(n_neighbors=19)</pre></div></div></div></div></div>"
      ],
      "text/plain": [
       "KNeighborsClassifier(n_neighbors=19)"
      ]
     },
     "execution_count": 16,
     "metadata": {},
     "output_type": "execute_result"
    }
   ],
   "source": [
    "# 2. Model Training (& Tuning)\n",
    "op = knn.fit(X_train, y_train)\n",
    "op"
   ]
  },
  {
   "cell_type": "code",
   "execution_count": 11,
   "metadata": {},
   "outputs": [
    {
     "name": "stdout",
     "output_type": "stream",
     "text": [
      "Accuracy with k = 1 0.9473684210526315\n"
     ]
    }
   ],
   "source": [
    "# 3. Model Evaluation (Prediction)\n",
    "\n",
    "from sklearn import metrics\n",
    "y_pred = knn.predict(X_test)\n",
    "\n",
    "accuracy = metrics.accuracy_score(y_test, y_pred)\n",
    "print(f\"Accuracy with k = 1 {accuracy}\")"
   ]
  },
  {
   "cell_type": "markdown",
   "metadata": {},
   "source": [
    "<a id='cv'></a>\n",
    "<hr/>"
   ]
  },
  {
   "cell_type": "markdown",
   "metadata": {},
   "source": [
    "### 2. Cross validation for k using scikit learn API\n",
    "\n",
    "K-Fold CV diagram \n",
    "\n",
    "![CV](https://onedrive.live.com/embed?resid=A5A4158EF1352FCB%211929&authkey=%21AOCi-KlSCxdsSqo&width=631&height=279)\n",
    "\n",
    "\n",
    "**Different types of Validation**\n",
    "\n",
    "1. Holdout: In some sense, Train-Test Split is also one extreme of K-Fold Cross validation. Here we can assume the entire X is split into 2 parts (k=2). The train split is used for model training; test part is used for model testing. Test split is called Holdout. And this validation method is also referred to as Hold-out Cross Validation\n",
    "\n",
    "2. K-Fold CV: The K-Fold Cross Validation we have adopted is a practical combination of holdout and the pure form of K-Fold Cross validation. We first do the split for hold out and then execute K-Fold CV as if it is complete dataset. If data is scarce, then we could first choose 90:10 train-test split instead of 80:20, followed a higher K for K-Fold CV.\n",
    "\n",
    "3. Stratified CV: When there is some class imbalance in the dataset, we would like to get each class a representative share in model training and validation, which otherwise may not be possible with random shuffle and sampling. Rest of this is same as K-Fold CV\n",
    "\n",
    "4. Leave-One-Out CV (LOOCV): is another extreme from holdout, where the total number of folds = number of observations (in X_train as applied to our case). If X_train split contained n rows, the model is trained on n-1 and validated on 1. This is computationally very expensive. But this should be used if the dataset is quite small.\n",
    "\n",
    "5. Repeated K-Fold CV: K-Fold CV repeated and/or stratified\n",
    "6. Nested CV: This is nothing but GridSearchCV and RandomSearch CV\n",
    "\n",
    "Question: What is the computational cost of each type of CV? \n",
    "\n",
    "\n",
    "##### 2.1 K-Fold CV\n",
    "\n",
    "1. K-Fold CV divides dataset into k non-overlapping folds. \n",
    "2. Each of the k folds gets an opportunity to be used as hold-out test set, when all other folds collectively are used as training dataset. \n",
    "3. A total of k models are fit and evaluated on the k hold-out test sets and the mean performance is reported"
   ]
  },
  {
   "cell_type": "code",
   "execution_count": 33,
   "metadata": {},
   "outputs": [
    {
     "name": "stdout",
     "output_type": "stream",
     "text": [
      "Cross Validation scores = [0.95652174 0.91304348 0.95454545 1.         1.        ]\n",
      "type=<class 'numpy.ndarray'>\n",
      "Average CV accuracy for k=2 is 0.9648221343873518\n"
     ]
    }
   ],
   "source": [
    "from sklearn.model_selection import cross_val_score\n",
    "\n",
    "knn = KNeighborsClassifier(n_neighbors=2)\n",
    "scores = cross_val_score(knn, X_train, y_train, cv=5, scoring='accuracy')\n",
    "\n",
    "print(f\"Cross Validation scores = {scores}\")\n",
    "print(f\"type={type(scores)}\")\n",
    "print(f\"Average CV accuracy for k=2 is {np.mean(scores)}\")"
   ]
  },
  {
   "cell_type": "code",
   "execution_count": 34,
   "metadata": {},
   "outputs": [
    {
     "name": "stdout",
     "output_type": "stream",
     "text": [
      "[0.965 0.965 0.974 0.965 0.974 0.983 0.982 0.973 0.982 0.982 0.991 0.982\n",
      " 0.974 0.964 0.974 0.964 0.964 0.964 0.964]\n"
     ]
    }
   ],
   "source": [
    "# search for an optimal value of K for KNN\n",
    "k_range = list(range(1, 20))\n",
    "k_avg_scores = []\n",
    "for k in k_range:\n",
    "    knn = KNeighborsClassifier(n_neighbors=k)\n",
    "    scores = cross_val_score(knn, X_train, y_train, cv=5, scoring='accuracy')\n",
    "    k_avg_scores.append(scores.mean())\n",
    "print(np.round(np.array(k_avg_scores), decimals=3))"
   ]
  },
  {
   "cell_type": "code",
   "execution_count": 35,
   "metadata": {},
   "outputs": [
    {
     "data": {
      "text/plain": [
       "Text(0, 0.5, 'CV Accuracy')"
      ]
     },
     "execution_count": 35,
     "metadata": {},
     "output_type": "execute_result"
    },
    {
     "data": {
      "image/png": "[encoded data removed]",
      "text/plain": [
       "<Figure size 640x480 with 1 Axes>"
      ]
     },
     "metadata": {},
     "output_type": "display_data"
    }
   ],
   "source": [
    "import matplotlib.pyplot as plt\n",
    "%matplotlib inline\n",
    "\n",
    "# plot the value of K for KNN (x-axis) versus the cross-validated accuracy (y-axis)\n",
    "plt.plot(k_range, k_avg_scores)\n",
    "plt.xlabel('k for KNN')\n",
    "plt.ylabel('CV Accuracy')"
   ]
  },
  {
   "cell_type": "code",
   "execution_count": 41,
   "metadata": {},
   "outputs": [
    {
     "data": {
      "text/plain": [
       "23"
      ]
     },
     "execution_count": 41,
     "metadata": {},
     "output_type": "execute_result"
    }
   ],
   "source": [
    "# choose best k\n",
    "2 * np.argmax(np.array(k_avg_scores))+3 #why the +1?"
   ]
  },
  {
   "cell_type": "code",
   "execution_count": 26,
   "metadata": {},
   "outputs": [
    {
     "name": "stdout",
     "output_type": "stream",
     "text": [
      "[3, 5, 7, 9, 11, 13, 15, 17, 19, 21, 23]\n",
      "[0.974 0.974 0.974 0.973 0.964 0.974 0.974 0.955 0.955 0.947 0.956]\n"
     ]
    }
   ],
   "source": [
    "# Whats different from previous code cell? \n",
    "# KFold object is explicitly provided for cv instead of mere number.\n",
    "# This allows fine grained control over the KFold\n",
    "\n",
    "from sklearn.model_selection import KFold\n",
    "\n",
    "X_train, X_test, y_train, y_test = train_test_split(df, y, random_state=4)\n",
    "\n",
    "k_range = list(range(3, 25, 2))\n",
    "print(k_range)\n",
    "k_avg_scores = []\n",
    "\n",
    "for k in k_range:\n",
    "    knn = KNeighborsClassifier(n_neighbors=k)\n",
    "    kfold = KFold(n_splits=5, shuffle=False) #this is new in this code cell\n",
    "    scores = cross_val_score(knn, X_train, y_train, cv=kfold, scoring='accuracy') \n",
    "    k_avg_scores.append(scores.mean())\n",
    "print(np.round(np.array(k_avg_scores), decimals=3))"
   ]
  },
  {
   "cell_type": "markdown",
   "metadata": {},
   "source": [
    "##### 2.2 Leave One Out Cross Validation (LOOCV)\n",
    "\n",
    "1. This is equivalent to saying n-fold CV. where n is the number of records. Each record is a fold\n",
    "2. n-1 folds are combined to form the training portion. 1 record is used for validation\n",
    "3. Very effective for checking hyperparameters, especially when data is very less, but computationally very expensive "
   ]
  },
  {
   "cell_type": "code",
   "execution_count": 54,
   "metadata": {},
   "outputs": [
    {
     "name": "stdout",
     "output_type": "stream",
     "text": [
      "[0.938 0.92  0.946 0.938 0.946 0.946 0.938 0.946 0.938 0.938 0.955 0.955\n",
      " 0.964 0.973 0.955 0.946 0.955 0.946 0.955 0.955 0.946 0.955 0.929 0.946]\n"
     ]
    }
   ],
   "source": [
    "from sklearn.model_selection import LeaveOneOut\n",
    "\n",
    "X_train, X_test, y_train, y_test = train_test_split(df, y, random_state=42)\n",
    "\n",
    "k_range = list(range(1, 25))\n",
    "k_avg_scores = []\n",
    "for k in k_range:\n",
    "    knn = KNeighborsClassifier(n_neighbors=k)\n",
    "    loocv = LeaveOneOut()\n",
    "    scores = cross_val_score(knn, X_train, y_train, cv=loocv, scoring='accuracy') #Leave One out CV object provided for cv\n",
    "    k_avg_scores.append(scores.mean())\n",
    "\n",
    "print(np.round(np.array(k_avg_scores), decimals=3))"
   ]
  },
  {
   "cell_type": "code",
   "execution_count": 47,
   "metadata": {},
   "outputs": [
    {
     "name": "stdout",
     "output_type": "stream",
     "text": [
      "Best value for k is 7\n"
     ]
    }
   ],
   "source": [
    "best_k = np.argmax(np.array(k_avg_scores))+1\n",
    "print(f\"Best value for k is {best_k}\")"
   ]
  },
  {
   "cell_type": "code",
   "execution_count": 55,
   "metadata": {},
   "outputs": [
    {
     "data": {
      "text/plain": [
       "Text(0, 0.5, 'CV Accuracy')"
      ]
     },
     "execution_count": 55,
     "metadata": {},
     "output_type": "execute_result"
    },
    {
     "data": {
      "image/png": "[encoded data removed]",
      "text/plain": [
       "<Figure size 640x480 with 1 Axes>"
      ]
     },
     "metadata": {},
     "output_type": "display_data"
    }
   ],
   "source": [
    "# plot the value of K for KNN (x-axis) versus the cross-validated accuracy (y-axis)\n",
    "plt.plot(k_range, k_avg_scores)\n",
    "plt.xlabel('k for KNN')\n",
    "plt.ylabel('CV Accuracy')"
   ]
  },
  {
   "cell_type": "markdown",
   "metadata": {},
   "source": [
    "##### 2.3 Stratified K-Fold CV\n",
    "\n",
    "1. Best option for CV on imbalanced dataset\n",
    "2. For a generic parametric model like Logistic Regression etc., the impact of higher class imbalance on hyperparameter tuning with Stratified K-Fold is that it will get a representative train and test dataset and discover higher & better L2 Regularization lambda\n",
    "3. For kNN, however, the model reacts by finding a lower k to increase its accuracy. This is undesirable side effect of kNN on imbalanced dataset. We attempt to fix this by setting the lower k range to be at least 5\n",
    "4. kNN is a very bad choice for imbalanced dataset\n",
    "5. Also accuracy is not the best measure for model performance in imbalanced dataset\n",
    "6. In general the model trained with stratified split and stratified kfold is robust"
   ]
  },
  {
   "cell_type": "code",
   "execution_count": 62,
   "metadata": {},
   "outputs": [
    {
     "data": {
      "text/plain": [
       "(array([[-0.36980626, -1.22954058],\n",
       "        [ 1.55617135,  1.11303064],\n",
       "        [ 0.41692741, -0.30349539],\n",
       "        [ 1.07236376,  1.00169832],\n",
       "        [-0.94516965,  1.83319262]]),\n",
       " array([0, 0, 0, 0, 0]))"
      ]
     },
     "execution_count": 62,
     "metadata": {},
     "output_type": "execute_result"
    }
   ],
   "source": [
    "# Stratified CV example with a synthetic dataset\n",
    "\n",
    "from sklearn.datasets import make_classification\n",
    "from sklearn.model_selection import StratifiedKFold\n",
    "\n",
    "# generate data\n",
    "X_imb, y_imb = make_classification(n_samples=1000, n_classes=2, weights=[0.80, 0.20], flip_y=0, random_state=1)\n",
    "\n",
    "X_imb_train, X_imb_test, y_imb_train, y_imb_test = \\\n",
    "    train_test_split(X_imb, y_imb, test_size = 0.2, stratify=y_imb, shuffle = True, random_state = 0)\n",
    "\n",
    "X_imb_train[0:5,0:2], y_imb_train[0:5]"
   ]
  },
  {
   "cell_type": "code",
   "execution_count": 63,
   "metadata": {},
   "outputs": [
    {
     "name": "stdout",
     "output_type": "stream",
     "text": [
      "> Class=0 : 800/1000 (80.0%)\n",
      "> Class=1 : 200/1000 (20.0%)\n"
     ]
    }
   ],
   "source": [
    "# summarize dataset\n",
    "classes = np.unique(y_imb)\n",
    "total = len(y_imb)  #imb -> imbalanced\n",
    "for c in classes:\n",
    " n_examples = len(y_imb[y_imb==c])\n",
    " percent = n_examples / total * 100\n",
    " print('> Class=%d : %d/%d (%.1f%%)' % (c, n_examples, total, percent))"
   ]
  },
  {
   "cell_type": "code",
   "execution_count": 64,
   "metadata": {},
   "outputs": [
    {
     "name": "stdout",
     "output_type": "stream",
     "text": [
      "[0.824 0.82  0.841 0.828 0.838 0.825 0.831 0.834 0.834 0.835 0.83  0.83\n",
      " 0.838 0.83  0.836 0.833 0.841 0.833 0.84  0.829 0.831 0.825]\n",
      "Best value for k is 5\n",
      "Test accuracy with K-Fold and best k = 5 is 0.85\n"
     ]
    }
   ],
   "source": [
    "k_lower_limit = 3\n",
    "k_range = list(range(k_lower_limit, 25))\n",
    "k_avg_scores = []\n",
    "for k in k_range:\n",
    "    knn = KNeighborsClassifier(n_neighbors=k)\n",
    "    kfold = KFold(n_splits=5, shuffle=True, random_state=1)\n",
    "    scores = cross_val_score(knn, X_imb_train, y_imb_train, cv=kfold, scoring='accuracy')\n",
    "    k_avg_scores.append(scores.mean())\n",
    "\n",
    "print(np.round(np.array(k_avg_scores), decimals=3))\n",
    "\n",
    "best_k = np.argmax(np.array(k_avg_scores)) + k_lower_limit\n",
    "print(f\"Best value for k is {best_k}\")\n",
    "\n",
    "# Fit the model again with best k obtained in cross validation\n",
    "knn1 = KNeighborsClassifier(n_neighbors=best_k) \n",
    "knn1.fit(X_imb_train, y_imb_train)\n",
    "y_imb_pred = knn1.predict(X_imb_test)\n",
    "accuracy = metrics.accuracy_score(y_imb_test, y_imb_pred)\n",
    "print(f\"Test accuracy with K-Fold and best k = {best_k} is {accuracy}\")"
   ]
  },
  {
   "cell_type": "code",
   "execution_count": 65,
   "metadata": {},
   "outputs": [
    {
     "name": "stdout",
     "output_type": "stream",
     "text": [
      "[0.845 0.831 0.849 0.838 0.832 0.835 0.835 0.836 0.839 0.831 0.834 0.832\n",
      " 0.835 0.83  0.834 0.826 0.832 0.826 0.833 0.822 0.832 0.82 ]\n",
      "Best value for k is 5\n",
      "Accuracy with Stratified K-Fold and best k = 5 is 0.85\n"
     ]
    }
   ],
   "source": [
    "k_lower_limit = 3\n",
    "k_range = list(range(k_lower_limit, 25))\n",
    "k_avg_scores = []\n",
    "for k in k_range:\n",
    "    knn = KNeighborsClassifier(n_neighbors=k)\n",
    "    skfold = StratifiedKFold(n_splits=5, shuffle=True, random_state=1)\n",
    "    scores = cross_val_score(knn, X_imb_train, y_imb_train, cv=skfold, scoring='accuracy')\n",
    "    k_avg_scores.append(scores.mean())\n",
    "\n",
    "print(np.round(np.array(k_avg_scores), decimals=3))\n",
    "\n",
    "best_k = np.argmax(np.array(k_avg_scores)) + k_lower_limit\n",
    "print(f\"Best value for k is {best_k}\")\n",
    "\n",
    "# Fit the model again with best k obtained in cross validation\n",
    "knn2 = KNeighborsClassifier(n_neighbors=best_k) \n",
    "knn2.fit(X_imb_train, y_imb_train)\n",
    "y_imb_pred = knn2.predict(X_imb_test)\n",
    "accuracy = metrics.accuracy_score(y_imb_test, y_imb_pred)\n",
    "print(f\"Accuracy with Stratified K-Fold and best k = {best_k} is {accuracy}\")"
   ]
  },
  {
   "cell_type": "markdown",
   "metadata": {},
   "source": [
    "##### 2.4 Repeated K-Fold CV\n",
    "\n",
    "1. K-Fold runs on different train and val folds in each iteration. This provides a noisy estimate (by design)\n",
    "2. One way to reduce the noise is increase k in K-Fold. This reduces the bias in estimated model performance, but increases variance\n",
    "3. One solution is to repeat each fold of the K-Fold a certain number of times and report the mean metrics of the repeats for that given KFold. This fixes the variance issue  "
   ]
  },
  {
   "cell_type": "code",
   "execution_count": 66,
   "metadata": {},
   "outputs": [],
   "source": [
    "from sklearn.model_selection import KFold\n",
    "\n",
    "X_train, X_test, y_train, y_test = train_test_split(df, y, random_state=4)"
   ]
  },
  {
   "cell_type": "code",
   "execution_count": 67,
   "metadata": {},
   "outputs": [
    {
     "name": "stdout",
     "output_type": "stream",
     "text": [
      "Variance of scores in 5-Fold = 0.0012242028464747152\n",
      "Variance of scores in 10-Fold = 0.0015518824609733713\n"
     ]
    },
    {
     "data": {
      "text/plain": [
       "array([0.91304348, 1.        , 1.        , 1.        , 0.95454545])"
      ]
     },
     "execution_count": 67,
     "metadata": {},
     "output_type": "execute_result"
    }
   ],
   "source": [
    "knn1 = KNeighborsClassifier(n_neighbors=3)\n",
    "kfold1 = KFold(n_splits=5, shuffle=True, random_state=42)\n",
    "scores1 = cross_val_score(knn1, X_train, y_train, cv=kfold1, scoring='accuracy')\n",
    "\n",
    "knn2 = KNeighborsClassifier(n_neighbors=3)\n",
    "kfold2 = KFold(n_splits=10, shuffle=True, random_state=42)\n",
    "scores2 = cross_val_score(knn2, X_train, y_train, cv=kfold2, scoring='accuracy')\n",
    "\n",
    "print(f\"Variance of scores in 5-Fold = {np.var(scores1)}\")\n",
    "print(f\"Variance of scores in 10-Fold = {np.var(scores2)}\")\n",
    "scores1"
   ]
  },
  {
   "cell_type": "code",
   "execution_count": 68,
   "metadata": {},
   "outputs": [
    {
     "name": "stdout",
     "output_type": "stream",
     "text": [
      "Variance of scores in Repeated 5-Fold = 0.0012098298676748588\n"
     ]
    },
    {
     "data": {
      "text/plain": [
       "array([0.91304348, 1.        , 1.        , 1.        , 0.95454545,\n",
       "       0.95652174, 1.        , 0.90909091, 1.        , 0.95454545])"
      ]
     },
     "execution_count": 68,
     "metadata": {},
     "output_type": "execute_result"
    }
   ],
   "source": [
    "from sklearn.model_selection import RepeatedKFold\n",
    "\n",
    "knn = KNeighborsClassifier(n_neighbors=3)\n",
    "rkfold = RepeatedKFold(n_splits=5, n_repeats=2, random_state=42)\n",
    "scores3 = cross_val_score(knn, X_train, y_train, cv=rkfold, scoring='accuracy')\n",
    "\n",
    "print(f\"Variance of scores in Repeated 5-Fold = {np.var(scores3)}\")\n",
    "scores3"
   ]
  },
  {
   "cell_type": "code",
   "execution_count": 69,
   "metadata": {},
   "outputs": [
    {
     "data": {
      "image/png": "[encoded data removed]",
      "text/plain": [
       "<Figure size 640x480 with 3 Axes>"
      ]
     },
     "metadata": {},
     "output_type": "display_data"
    }
   ],
   "source": [
    "plt.subplot(1,3,1)\n",
    "plt.boxplot(scores1)\n",
    "plt.subplot(1,3,2)\n",
    "plt.boxplot(scores2)\n",
    "plt.subplot(1,3,3)\n",
    "plt.boxplot(scores3)\n",
    "plt.show()"
   ]
  },
  {
   "cell_type": "markdown",
   "metadata": {},
   "source": [
    "<a id='gridsearch'></a>\n",
    "<hr/>"
   ]
  },
  {
   "cell_type": "markdown",
   "metadata": {},
   "source": [
    "### 3 GridSearch & RandomSearch for multiple hyperparameter tuning\n",
    "\n",
    "##### 3.1 Grid Search\n",
    "1. The code below uses LOOCV for CV. We could even use K-Fold CV instead"
   ]
  },
  {
   "cell_type": "code",
   "execution_count": null,
   "metadata": {},
   "outputs": [],
   "source": [
    "from sklearn.model_selection import GridSearchCV\n",
    "\n",
    "X_train, X_test, y_train, y_test = train_test_split(df, y, random_state=42)\n",
    "\n",
    "#create new a knn model\n",
    "knn = KNeighborsClassifier()\n",
    "#create a dictionary of all values we want to test for n_neighbors\n",
    "param_grid = {\"n_neighbors\": np.arange(1, 25), \"weights\": [\"uniform\", \"distance\"]}\n",
    "\n",
    "loocv = LeaveOneOut()\n",
    "\n",
    "#use gridsearch to test all values for n_neighbors\n",
    "knn_gscv = GridSearchCV(knn, param_grid, cv=loocv) #can also specify something like cv=5 for a plain KFold \n",
    "#fit model to data\n",
    "knn_gscv.fit(X_train, y_train)"
   ]
  },
  {
   "cell_type": "code",
   "execution_count": null,
   "metadata": {},
   "outputs": [],
   "source": [
    "#check top performing n_neighbors value\n",
    "knn_gscv.best_params_"
   ]
  },
  {
   "cell_type": "code",
   "execution_count": null,
   "metadata": {},
   "outputs": [],
   "source": [
    "print(type(knn_gscv.cv_results_))\n",
    "print(knn_gscv.cv_results_.keys())\n",
    "print(np.array(knn_gscv.cv_results_[\"mean_test_score\"]))\n",
    "print(np.array(knn_gscv.cv_results_[\"mean_test_score\"]).shape)\n",
    "print(np.argmax(np.array(knn_gscv.cv_results_[\"mean_test_score\"])))"
   ]
  },
  {
   "cell_type": "markdown",
   "metadata": {},
   "source": [
    "##### 3.2 Random Search"
   ]
  },
  {
   "cell_type": "code",
   "execution_count": null,
   "metadata": {},
   "outputs": [],
   "source": [
    "from sklearn.model_selection import RandomizedSearchCV\n",
    "\n",
    "X_train, X_test, y_train, y_test = train_test_split(df, y, random_state=42)\n",
    "\n",
    "#create new a knn model\n",
    "knn = KNeighborsClassifier()\n",
    "#create a dictionary of all values we want to test for n_neighbors\n",
    "param_grid = {\"n_neighbors\": np.arange(1, 25), \"weights\": [\"uniform\", \"distance\"]}\n",
    "\n",
    "loocv = LeaveOneOut()\n",
    "\n",
    "#use gridsearch to test all values for n_neighbors\n",
    "knn_rscv = RandomizedSearchCV(knn, param_grid, cv=loocv) #can also specify something like cv=5 for a plain KFold \n",
    "#fit model to data\n",
    "knn_rscv.fit(X_train, y_train)"
   ]
  },
  {
   "cell_type": "code",
   "execution_count": null,
   "metadata": {},
   "outputs": [],
   "source": [
    "#check top performing n_neighbors value\n",
    "knn_rscv.best_params_"
   ]
  },
  {
   "cell_type": "code",
   "execution_count": null,
   "metadata": {},
   "outputs": [],
   "source": [
    "print(type(knn_rscv.cv_results_))\n",
    "print(knn_rscv.cv_results_.keys())\n",
    "print(np.array(knn_rscv.cv_results_[\"mean_test_score\"]))\n",
    "print(np.array(knn_rscv.cv_results_[\"mean_test_score\"]).shape)\n",
    "print(np.argmax(np.array(knn_rscv.cv_results_[\"mean_test_score\"])))"
   ]
  },
  {
   "cell_type": "markdown",
   "metadata": {},
   "source": [
    "<a id='beyond-gridsearch'></a>\n",
    "<hr/>"
   ]
  },
  {
   "cell_type": "markdown",
   "metadata": {},
   "source": [
    "### 4 Beyond GridSearch - Lack of stability even after GridSearchCV (Optional)\n",
    "\n",
    "1. We run the KFold CV with two different data split and demonstrate that the k obtained even after Cross validation is not sufficient.\n",
    "2. Then we switch to LOOCV with different distance metric and repeat the process along with different train test split. This would have been generally achieved by a GridSearchCV in general.\n",
    "3. With the above two experiments we can conclude that even LOOCV based Grid Search is not going to be robust in selecting a good k value.\n",
    "4. Then we adopt a totally different approach of different train test split and running LOOCV and take a set intesection on the last 5 best scores. These methods from less charted path are generally used in Kaggle competitions  \n",
    "\n",
    "##### 4.1 KFold CV with one variety of train test split"
   ]
  },
  {
   "cell_type": "code",
   "execution_count": null,
   "metadata": {},
   "outputs": [],
   "source": [
    "# We start by making a function out of KFold CV for reuse\n",
    "def knn_kfold_cv(X_train, y_train, mink=1, maxk=25):\n",
    "    k_range = list(range(mink, maxk))\n",
    "    k_avg_scores = []\n",
    "    for k in k_range:\n",
    "        knn = KNeighborsClassifier(n_neighbors=k)\n",
    "        scores = cross_val_score(knn, X_train, y_train, cv=5, scoring='accuracy')\n",
    "        k_avg_scores.append(scores.mean())\n",
    "\n",
    "    return k_avg_scores"
   ]
  },
  {
   "cell_type": "code",
   "execution_count": null,
   "metadata": {},
   "outputs": [],
   "source": [
    "k_range = list(range(1, 25))\n",
    "\n",
    "fig, axes = plt.subplots(nrows=1, ncols=2, sharex=True, figsize=(10, 6))\n",
    "\n",
    "X_train, X_test, y_train, y_test = train_test_split(df, y, random_state=4)\n",
    "k_avg_scores1 = knn_kfold_cv(X_train, y_train, mink=1, maxk=25)\n",
    "\n",
    "axes[0].plot(k_range, k_avg_scores1) #plt.plot(k_range, k_avg_scores)\n",
    "axes[0].set_xlabel('k for KNN') #plt.xlabel('k for KNN')\n",
    "axes[0].set_ylabel('CV Accuracy') #plt.ylabel('CV Accuracy')\n",
    "\n",
    "\n",
    "X_train, X_test, y_train, y_test = train_test_split(df, y, random_state=42)\n",
    "k_avg_scores2 = knn_kfold_cv(X_train, y_train, mink=1, maxk=25)\n",
    "\n",
    "axes[1].plot(k_range, k_avg_scores2)\n",
    "axes[1].set_xlabel('k for KNN')\n",
    "axes[1].set_ylabel('CV Accuracy')\n",
    "\n",
    "plt.show()"
   ]
  },
  {
   "cell_type": "markdown",
   "metadata": {},
   "source": [
    "##### 4.2 LOOCV with different train test split"
   ]
  },
  {
   "cell_type": "code",
   "execution_count": null,
   "metadata": {},
   "outputs": [],
   "source": [
    "# For this purpose, we start by making a function out of CV\n",
    "def knn_loocv(X_train, y_train, mink=1, maxk=25):\n",
    "    k_range = list(range(mink, maxk))\n",
    "    k_avg_scores = []\n",
    "    for k in k_range:\n",
    "        knn = KNeighborsClassifier(n_neighbors=k, weights=\"distance\")\n",
    "        loocv = LeaveOneOut()\n",
    "        scores = cross_val_score(knn, X_train, y_train, cv=loocv, scoring='accuracy')\n",
    "        k_avg_scores.append(scores.mean())\n",
    "\n",
    "    return k_avg_scores"
   ]
  },
  {
   "cell_type": "code",
   "execution_count": null,
   "metadata": {},
   "outputs": [],
   "source": [
    "k_range = list(range(1, 25))\n",
    "\n",
    "fig, axes = plt.subplots(nrows=1, ncols=2, sharex=True, figsize=(10, 6))\n",
    "\n",
    "X_train, X_test, y_train, y_test = train_test_split(df, y, random_state=4)\n",
    "k_avg_scores1 = knn_loocv(X_train, y_train, mink=1, maxk=25)\n",
    "\n",
    "axes[0].plot(k_range, k_avg_scores1) #plt.plot(k_range, k_avg_scores)\n",
    "axes[0].set_xlabel('k for KNN') #plt.xlabel('k for KNN')\n",
    "axes[0].set_ylabel('CV Accuracy') #plt.ylabel('CV Accuracy')\n",
    "\n",
    "\n",
    "X_train, X_test, y_train, y_test = train_test_split(df, y, random_state=42)\n",
    "k_avg_scores2 = knn_loocv(X_train, y_train, mink=1, maxk=25)\n",
    "\n",
    "axes[1].plot(k_range, k_avg_scores2)\n",
    "axes[1].set_xlabel('k for KNN')\n",
    "axes[1].set_ylabel('CV Accuracy')\n",
    "\n",
    "plt.show()"
   ]
  },
  {
   "cell_type": "markdown",
   "metadata": {},
   "source": [
    "1. Intersection over the top5 score of both cross validation over different splits \n",
    "2. This is follwoeds by set intersection over the top 5 scores gives best and robust solution\n",
    "\n",
    "This comes atr a big cost. Lot more computing"
   ]
  },
  {
   "cell_type": "code",
   "execution_count": null,
   "metadata": {},
   "outputs": [],
   "source": [
    "max5_set1 = set(np.argsort(np.array(k_avg_scores1))[-5:])\n",
    "max5_set2 = set(np.argsort(np.array(k_avg_scores2))[-5:])\n",
    "\n",
    "max5_set1.intersection(max5_set2)"
   ]
  },
  {
   "cell_type": "markdown",
   "metadata": {},
   "source": [
    "<a id='cv-from-scratch'></a>\n",
    "<hr/>"
   ]
  },
  {
   "cell_type": "markdown",
   "metadata": {},
   "source": [
    "### 5. Cross validation from scratch (not exactly scratch scratch)"
   ]
  },
  {
   "cell_type": "code",
   "execution_count": null,
   "metadata": {},
   "outputs": [],
   "source": [
    "# Demonstrating data split in K-Fold Cross validation\n",
    "\n",
    "from sklearn.model_selection import KFold\n",
    "\n",
    "kf = KFold(n_splits=5, shuffle=False)\n",
    "\n",
    "#dummy data\n",
    "data = range(25)\n",
    "\n",
    "# print the contents of training and testing set\n",
    "print('{} {:^61} {}'.format('Iteration', 'Training set indices', 'Validation set indices'))\n",
    "iter_idx = 1\n",
    "for train_idx, val_idx in kf.split(data):\n",
    "    print('{:^9} {} {:^25}'.format(iter_idx, train_idx, str(val_idx)))\n",
    "    iter_idx += 1"
   ]
  },
  {
   "cell_type": "code",
   "execution_count": null,
   "metadata": {},
   "outputs": [],
   "source": [
    "# Cross validation from scratch with k=2\n",
    "\n",
    "k_knn = 2 #How many k to use in kNN\n",
    "\n",
    "kfold_splits = 5 # how many splits in K-Fold CV\n",
    "\n",
    "kf = KFold(n_splits=kfold_splits, shuffle=False) #create the KFold object\n",
    "\n",
    "iter_idx = 0 # This looping cannot be obtained by enumerate. Hence manually defined\n",
    "\n",
    "accuracy_arr = np.empty(kfold_splits) #To store the accuracy of each iter in CV\n",
    "\n",
    "X_train, X_test, y_train, y_test = train_test_split(df, y, random_state=4)\n",
    "\n",
    "# kf.split returns indices on X_train \n",
    "for train_idx, val_idx in kf.split(X_train):\n",
    "\n",
    "    # split the original X_train into train and val data for this iter \n",
    "    X_train_cv = X_train.iloc[train_idx]\n",
    "    y_train_cv = y_train[train_idx]\n",
    "\n",
    "    X_val_cv =  X_train.iloc[val_idx]\n",
    "    y_val_cv = y_train[val_idx]\n",
    "\n",
    "    knn = KNeighborsClassifier(n_neighbors=k_knn)\n",
    "    knn.fit(X_train_cv, y_train_cv)\n",
    "    y_pred_cv = knn.predict(X_val_cv)\n",
    "    accuracy = metrics.accuracy_score(y_val_cv, y_pred_cv)\n",
    "   \n",
    "    print(f\"Iteration {iter_idx} score: {accuracy}\")\n",
    "\n",
    "    #store the accuracy of this iter in arr to calc mean accuracy later\n",
    "    accuracy_arr[iter_idx] = accuracy\n",
    "    iter_idx += 1\n",
    "\n",
    "print(f\"Average CV accuracy for k={k_knn} is {np.mean(accuracy_arr)}\")"
   ]
  },
  {
   "cell_type": "markdown",
   "metadata": {},
   "source": [
    "<a id='train-test-scratch'></a>\n",
    "<hr/>"
   ]
  },
  {
   "cell_type": "markdown",
   "metadata": {},
   "source": [
    "## Assignments\n",
    "\n",
    "### 1. train test split from scratch\n",
    "\n",
    "Create a function my_train_test_split() that takes ipnput X, y and fraction of train. And ouputs the list or tuple containing splits"
   ]
  },
  {
   "cell_type": "code",
   "execution_count": 5,
   "metadata": {},
   "outputs": [],
   "source": [
    "import numpy as np"
   ]
  },
  {
   "cell_type": "code",
   "execution_count": 17,
   "metadata": {},
   "outputs": [
    {
     "name": "stdout",
     "output_type": "stream",
     "text": [
      "data:\n",
      "[[ 1  2  0]\n",
      " [ 3  4  1]\n",
      " [ 5  6  1]\n",
      " [ 7  8  0]\n",
      " [ 9 10  1]\n",
      " [11 12  0]]\n",
      "\n",
      "X_train:\n",
      "[[1 2]\n",
      " [3 4]\n",
      " [5 6]\n",
      " [7 8]]\n",
      "\n",
      "y_train:\n",
      "[0 1 1 0]\n",
      "\n",
      "y_train:\n",
      "[[ 9 10]\n",
      " [11 12]]\n",
      "\n",
      "y_test:\n",
      "[1 0]\n"
     ]
    }
   ],
   "source": [
    "#Clue 1: Splitting the data sequentially for a given fraction\n",
    "\n",
    "data = np.array([[1, 2, 0], [3, 4, 1], [5, 6, 1], [7, 8, 0], [9, 10, 1], [11, 12, 0]])\n",
    "print('data:')\n",
    "print(data)\n",
    "\n",
    "# Train part of the data\n",
    "split = int(0.8*data.shape[0])\n",
    "X_train = data[:split, :-1]\n",
    "y_train = data[:split, -1]\n",
    "\n",
    "print('\\nX_train:')\n",
    "print(X_train)\n",
    "print('\\ny_train:')\n",
    "print(y_train)\n",
    "\n",
    "# The test part of the data\n",
    "X_test = data[split:, :-1]\n",
    "y_test = data[split:, -1]\n",
    "\n",
    "print('\\ny_train:')\n",
    "print(X_test)\n",
    "\n",
    "print('\\ny_test:')\n",
    "print(y_test)"
   ]
  },
  {
   "cell_type": "code",
   "execution_count": 5,
   "metadata": {},
   "outputs": [
    {
     "name": "stdout",
     "output_type": "stream",
     "text": [
      "[3 1 2 0]\n",
      "<class 'numpy.ndarray'>\n",
      "3\n"
     ]
    },
    {
     "data": {
      "text/plain": [
       "array([3, 1, 2])"
      ]
     },
     "execution_count": 5,
     "metadata": {},
     "output_type": "execute_result"
    }
   ],
   "source": [
    "'''#Clue2: splitting data randomly\n",
    "data = np.array([[1, 2, 0], [3, 4, 1], [5, 6, 1], [7, 8, 0]])\n",
    "num_samples = data.shape[0]\n",
    "ind = np.random.choice(num_samples, num_samples, replace = False)\n",
    "print(ind)\n",
    "print(type(ind))\n",
    "split = int(0.8*num_samples)\n",
    "print(split)\n",
    "ind[:split]'''"
   ]
  },
  {
   "cell_type": "code",
   "execution_count": 8,
   "metadata": {},
   "outputs": [
    {
     "name": "stdout",
     "output_type": "stream",
     "text": [
      "data:\n",
      "[[ 1  2  0]\n",
      " [ 3  4  1]\n",
      " [ 5  6  1]\n",
      " [ 7  8  0]\n",
      " [ 9 10  1]\n",
      " [11 12  0]]\n"
     ]
    }
   ],
   "source": [
    "## TODO: Your function definition goes here\n",
    "data = np.array([[1, 2, 0], [3, 4, 1], [5, 6, 1], [7, 8, 0], [9, 10, 1], [11, 12, 0]])\n",
    "print('data:')\n",
    "print(data)\n",
    "\n",
    "def my_train_test_split(X_train, y_train, split_percent= 0.8):\n",
    "    split = int(X.shape[0] * split_percent)\n",
    "\n",
    "    # Split the data into training and testing sets\n",
    "    X_train = data[:split, :-1]\n",
    "    y_train = data[:split, -1]\n",
    "    X_test = data[split:, :-1]\n",
    "    y_test = data[split:, -1]\n",
    "\n",
    "    return X_train, y_train, X_test, y_test\n",
    "    \n",
    "    "
   ]
  },
  {
   "cell_type": "code",
   "execution_count": 9,
   "metadata": {},
   "outputs": [
    {
     "name": "stdout",
     "output_type": "stream",
     "text": [
      "X_train:\n",
      "[[1 2]\n",
      " [3 4]\n",
      " [5 6]\n",
      " [7 8]]\n",
      "y_train:\n",
      "[0 1 1 0]\n",
      "X_test:\n",
      "[[ 9 10]\n",
      " [11 12]]\n",
      "y_test:\n",
      "[1 0]\n"
     ]
    }
   ],
   "source": [
    "## TODO: Your function invocation goes here\n",
    "X = data[:, :-1]  # Features\n",
    "y = data[:, -1]   # Labels\n",
    "\n",
    "train_frac = 0.8  # 80% for training, 20% for testing\n",
    "\n",
    "X_train, y_train, X_test, y_test = my_train_test_split(X, y, train_frac)\n",
    "\n",
    "# Printing the results\n",
    "print(\"X_train:\")\n",
    "print(X_train)\n",
    "print(\"y_train:\")\n",
    "print(y_train)\n",
    "print(\"X_test:\")\n",
    "print(X_test)\n",
    "print(\"y_test:\")\n",
    "print(y_test)"
   ]
  },
  {
   "cell_type": "markdown",
   "metadata": {},
   "source": [
    "<a id='knn-scratch'></a>\n",
    "<hr/>"
   ]
  },
  {
   "cell_type": "markdown",
   "metadata": {},
   "source": [
    "### 2. kNN from scratch"
   ]
  },
  {
   "cell_type": "code",
   "execution_count": null,
   "metadata": {},
   "outputs": [],
   "source": [
    "# KNN class that allows setting the number of neighbours and weight=uniform or distance\n",
    "class KNN:\n",
    "    def __init__(self, k = 7): #Fill this out\n",
    "        pass\n",
    "\n",
    "    def fit(X, y): # What is missing in function definition?\n",
    "        pass\n",
    "\n",
    "    def predict(X): # What is missing in function definition?\n",
    "        pass"
   ]
  },
  {
   "cell_type": "code",
   "execution_count": null,
   "metadata": {},
   "outputs": [],
   "source": [
    "knn = KNN()\n",
    "knn.fit(??)"
   ]
  },
  {
   "cell_type": "code",
   "execution_count": null,
   "metadata": {},
   "outputs": [],
   "source": [
    "y_pred = knn.predict(?)\n",
    "accuracy = metrics.accuracy_score(y_test, y_pred)\n",
    "print(f\"Accuracy = {accuracy}\")"
   ]
  },
  {
   "cell_type": "markdown",
   "metadata": {},
   "source": [
    "<a id='gridsearch-scratch'></a>\n",
    "<hr/>"
   ]
  },
  {
   "cell_type": "markdown",
   "metadata": {},
   "source": [
    "### 3. GridSearch from scratch"
   ]
  },
  {
   "cell_type": "code",
   "execution_count": null,
   "metadata": {},
   "outputs": [],
   "source": [
    "# Clue: Look at itertools.product() functionality in python.\n",
    "# It will allow you to create Cartesian products needed for multiple hyperparam tuning\n",
    "# Use it in a loop to write your custom Grid Search\n"
   ]
  },
  {
   "cell_type": "code",
   "execution_count": null,
   "metadata": {},
   "outputs": [],
   "source": []
  },
  {
   "cell_type": "markdown",
   "metadata": {},
   "source": [
    "<a id='integrate'></a>\n",
    "<hr/>"
   ]
  },
  {
   "cell_type": "markdown",
   "metadata": {},
   "source": [
    "### 4. Integrate your custom code\n",
    "\n",
    "1. Create a dataframe of iris dataset\n",
    "2. Use your custom train test split function to split into train and test\n",
    "3. Use your custom GridSearch on your customKNN class to identify the best k and best weight for iris dataset"
   ]
  },
  {
   "cell_type": "code",
   "execution_count": 2,
   "metadata": {},
   "outputs": [
    {
     "ename": "NameError",
     "evalue": "name 'load_iris' is not defined",
     "output_type": "error",
     "traceback": [
      "\u001b[1;31m---------------------------------------------------------------------------\u001b[0m",
      "\u001b[1;31mNameError\u001b[0m                                 Traceback (most recent call last)",
      "\u001b[1;32md:\\AML\\KNN\\kNN_CV.ipynb Cell 75\u001b[0m line \u001b[0;36m2\n\u001b[0;32m      <a href='vscode-notebook-cell:/d%3A/AML/KNN/kNN_CV.ipynb#Y134sZmlsZQ%3D%3D?line=0'>1</a>\u001b[0m \u001b[39mimport\u001b[39;00m \u001b[39mpandas\u001b[39;00m \u001b[39mas\u001b[39;00m \u001b[39mpd\u001b[39;00m\n\u001b[1;32m----> <a href='vscode-notebook-cell:/d%3A/AML/KNN/kNN_CV.ipynb#Y134sZmlsZQ%3D%3D?line=1'>2</a>\u001b[0m iris \u001b[39m=\u001b[39m load_iris\n",
      "\u001b[1;31mNameError\u001b[0m: name 'load_iris' is not defined"
     ]
    }
   ],
   "source": []
  }
 ],
 "metadata": {
  "kernelspec": {
   "display_name": "quickstart",
   "language": "python",
   "name": "python3"
  },
  "language_info": {
   "codemirror_mode": {
    "name": "ipython",
    "version": 3
   },
   "file_extension": ".py",
   "mimetype": "text/x-python",
   "name": "python",
   "nbconvert_exporter": "python",
   "pygments_lexer": "ipython3",
   "version": "3.9.17"
  },
  "orig_nbformat": 4
 },
 "nbformat": 4,
 "nbformat_minor": 2
}
