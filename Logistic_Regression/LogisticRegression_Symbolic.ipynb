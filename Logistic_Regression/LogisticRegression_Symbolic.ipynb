{
  "cells": [
    {
      "cell_type": "code",
      "execution_count": 1,
      "metadata": {
        "id": "5dEgRpy3952M"
      },
      "outputs": [
        {
          "name": "stderr",
          "output_type": "stream",
          "text": [
            "C:\\Users\\ATISHAY SG\\AppData\\Local\\Temp\\ipykernel_15848\\317298329.py:5: MatplotlibDeprecationWarning: The seaborn styles shipped by Matplotlib are deprecated since 3.6, as they no longer correspond to the styles shipped by seaborn. However, they will remain available as 'seaborn-v0_8-<style>'. Alternatively, directly use the seaborn API instead.\n",
            "  plt.style.use('seaborn-whitegrid')\n"
          ]
        }
      ],
      "source": [
        "import numpy as np\n",
        "import sympy as sp\n",
        "import matplotlib.pyplot as plt\n",
        "import matplotlib.cm as cm\n",
        "plt.style.use('seaborn-whitegrid')\n",
        "%matplotlib inline"
      ]
    },
    {
      "cell_type": "markdown",
      "metadata": {
        "id": "QhXXZfGE9aLn"
      },
      "source": [
        "Consider the following 3 images with 4 features each:\n",
        "\n",
        "![](https://bl3302files.storage.live.com/y4mcU0UkgUJ6Y5qaZUyZmgDw1gnzEmExgjlJiSLd96odZuCzXAlWCWvIbyoqlziXpxKy1uXndfSB8qCdvEtfECOOHl-wW4J7xt5M_6enxAaPoKNSI8USM0c18LyKDd0Q4V1uA6hhXglPhXxIRH6WT8-qRwctLtu81mUJo7Ztjle2PyZkG6qZikxPmQeEjl3-C7i?width=400&height=120&cropmode=none)"
      ]
    },
    {
      "cell_type": "code",
      "execution_count": 2,
      "metadata": {
        "id": "CWW5t9U0zEjx"
      },
      "outputs": [
        {
          "name": "stdout",
          "output_type": "stream",
          "text": [
            "⎡26  100  90  80  1⎤\n",
            "⎢                  ⎥\n",
            "⎢2   60   20  50  1⎥\n",
            "⎢                  ⎥\n",
            "⎣80  10   4   60  1⎦\n"
          ]
        }
      ],
      "source": [
        "# Define numpy arrays for each image\n",
        "x1 = np.array([26, 100, 90, 80, 1]) # Image-1\n",
        "x2 = np.array([2, 60, 20, 50, 1]) # Image-2\n",
        "x3 = np.array([80, 10, 4, 60, 1]) # Image-3\n",
        "\n",
        "# Build symbolic data matrix\n",
        "X = sp.Matrix(np.stack((x1, x2, x3 ), axis = 0))\n",
        "\n",
        "# Pretty print symbolic matrix\n",
        "sp.pprint(X) #pretty print - prints the matrix in a way as we write it"
      ]
    },
    {
      "cell_type": "code",
      "execution_count": 3,
      "metadata": {
        "id": "wtOzr96Z0P75"
      },
      "outputs": [
        {
          "name": "stdout",
          "output_type": "stream",
          "text": [
            "⎡W₀₀⎤\n",
            "⎢   ⎥\n",
            "⎢W₀₁⎥\n",
            "⎢   ⎥\n",
            "⎢W₀₂⎥\n",
            "⎢   ⎥\n",
            "⎢W₀₃⎥\n",
            "⎢   ⎥\n",
            "⎣W₀₄⎦\n"
          ]
        }
      ],
      "source": [
        "# Create symbolic weight matrix\n",
        "w = sp.MatrixSymbol('W', 1, 5)\n",
        "w = w.T\n",
        "\n",
        "# Pretty print symbolic weight matrix\n",
        "sp.pprint(sp.Matrix(w)) # Pretty print symbolic weight matrix"
      ]
    },
    {
      "cell_type": "code",
      "execution_count": 4,
      "metadata": {
        "id": "kM918JKh02ic"
      },
      "outputs": [
        {
          "name": "stdout",
          "output_type": "stream",
          "text": [
            "⎡26  100  90  80  1⎤   \n",
            "⎢                  ⎥  T\n",
            "⎢2   60   20  50  1⎥⋅W \n",
            "⎢                  ⎥   \n",
            "⎣80  10   4   60  1⎦   \n",
            "26⋅W₀₀ + 100⋅W₀₁ + 90⋅W₀₂ + 80⋅W₀₃ + W₀₄\n",
            "2⋅W₀₀ + 60⋅W₀₁ + 20⋅W₀₂ + 50⋅W₀₃ + W₀₄\n",
            "80⋅W₀₀ + 10⋅W₀₁ + 4⋅W₀₂ + 60⋅W₀₃ + W₀₄\n"
          ]
        }
      ],
      "source": [
        "# Calculate symbolic raw zcores\n",
        "z = (X*w)\n",
        "sp.pprint(z)\n",
        "sp.pprint(z[0])\n",
        "sp.pprint(z[1])\n",
        "sp.pprint(z[2])"
      ]
    },
    {
      "cell_type": "code",
      "execution_count": 5,
      "metadata": {},
      "outputs": [
        {
          "data": {
            "text/latex": [
              "$\\displaystyle \\left[\\begin{matrix}1\\\\0\\\\0\\end{matrix}\\right]$"
            ],
            "text/plain": [
              "Matrix([\n",
              "[1],\n",
              "[0],\n",
              "[0]])"
            ]
          },
          "execution_count": 5,
          "metadata": {},
          "output_type": "execute_result"
        }
      ],
      "source": [
        "# Build a vector of correct output labels\n",
        "y = sp.Matrix(np.array([1,0,0]))\n",
        "y"
      ]
    },
    {
      "cell_type": "code",
      "execution_count": 6,
      "metadata": {},
      "outputs": [
        {
          "data": {
            "text/latex": [
              "$\\displaystyle 1$"
            ],
            "text/plain": [
              "1"
            ]
          },
          "execution_count": 6,
          "metadata": {},
          "output_type": "execute_result"
        }
      ],
      "source": [
        "y[0]"
      ]
    },
    {
      "cell_type": "code",
      "execution_count": 7,
      "metadata": {
        "id": "lfjVmHXs1wF6"
      },
      "outputs": [
        {
          "name": "stdout",
          "output_type": "stream",
          "text": [
            "                       ⎛                         1                     ⎞      \n",
            "- 0.333333333333333⋅log⎜1 - ───────────────────────────────────────────⎟ - 0.3\n",
            "                       ⎜     2⋅W₀₀ + 60⋅W₀₁ + 20⋅W₀₂ + 50⋅W₀₃ + W₀₄    ⎟      \n",
            "                       ⎝    ℯ                                       + 1⎠      \n",
            "\n",
            "                  ⎛                         1                     ⎞           \n",
            "33333333333333⋅log⎜1 - ───────────────────────────────────────────⎟ - 0.333333\n",
            "                  ⎜     80⋅W₀₀ + 10⋅W₀₁ + 4⋅W₀₂ + 60⋅W₀₃ + W₀₄    ⎟           \n",
            "                  ⎝    ℯ                                       + 1⎠           \n",
            "\n",
            "             ⎛                      1                      ⎞\n",
            "333333333⋅log⎜─────────────────────────────────────────────⎟\n",
            "             ⎜ 26⋅W₀₀ + 100⋅W₀₁ + 90⋅W₀₂ + 80⋅W₀₃ + W₀₄    ⎟\n",
            "             ⎝ℯ                                         + 1⎠\n"
          ]
        }
      ],
      "source": [
        "# Calculate binary cross entropy loss for each image\n",
        "loss_1 = -y[0]*sp.log(1/(1+sp.exp(z[0]))) - (1-y[0])*sp.log(1-1/(1+sp.exp(z[0])))\n",
        "loss_2 = -y[1]*sp.log(1/(1+sp.exp(z[1]))) - (1-y[1])*sp.log(1-1/(1+sp.exp(z[1])))\n",
        "loss_3 = -y[2]*sp.log(1/(1+sp.exp(z[2]))) - (1-y[2])*sp.log(1-1/(1+sp.exp(z[2])))\n",
        "\n",
        "# Calculate symbolic average softmax loss\n",
        "average_loss = (1/3)*(loss_1 + loss_2 + loss_3)\n",
        "\n",
        "# Pretty print symbolic average softmax loss\n",
        "sp.pprint(average_loss)"
      ]
    },
    {
      "cell_type": "code",
      "execution_count": 8,
      "metadata": {},
      "outputs": [
        {
          "data": {
            "text/plain": [
              "array([[-0.48211638],\n",
              "       [ 1.94609243],\n",
              "       [-0.58225509],\n",
              "       [ 0.63185749],\n",
              "       [-0.78733837]])"
            ]
          },
          "execution_count": 8,
          "metadata": {},
          "output_type": "execute_result"
        }
      ],
      "source": [
        "np.random.randn(5,1)"
      ]
    },
    {
      "cell_type": "code",
      "execution_count": 9,
      "metadata": {
        "id": "vAK2713D7E3j"
      },
      "outputs": [
        {
          "data": {
            "text/latex": [
              "$\\displaystyle - 0.333333333333333 \\log{\\left(1 - \\frac{1}{e^{2 W_{0, 0} + 60 W_{0, 1} + 20 W_{0, 2} + 50 W_{0, 3} + W_{0, 4}} + 1} \\right)} - 0.333333333333333 \\log{\\left(1 - \\frac{1}{e^{80 W_{0, 0} + 10 W_{0, 1} + 4 W_{0, 2} + 60 W_{0, 3} + W_{0, 4}} + 1} \\right)} - 0.333333333333333 \\log{\\left(\\frac{1}{e^{26 W_{0, 0} + 100 W_{0, 1} + 90 W_{0, 2} + 80 W_{0, 3} + W_{0, 4}} + 1} \\right)}$"
            ],
            "text/plain": [
              "-0.333333333333333*log(1 - 1/(exp(2*W[0, 0] + 60*W[0, 1] + 20*W[0, 2] + 50*W[0, 3] + W[0, 4]) + 1)) - 0.333333333333333*log(1 - 1/(exp(80*W[0, 0] + 10*W[0, 1] + 4*W[0, 2] + 60*W[0, 3] + W[0, 4]) + 1)) - 0.333333333333333*log(1/(exp(26*W[0, 0] + 100*W[0, 1] + 90*W[0, 2] + 80*W[0, 3] + W[0, 4]) + 1))"
            ]
          },
          "execution_count": 9,
          "metadata": {},
          "output_type": "execute_result"
        }
      ],
      "source": [
        "# Evaluate average softmax loss for arbitrary weight values\n",
        "average_loss.evalf(subs = {w: sp.Matrix(np.random.randn(5,1))})"
      ]
    }
  ],
  "metadata": {
    "colab": {
      "provenance": []
    },
    "kernelspec": {
      "display_name": "Python 3",
      "name": "python3"
    },
    "language_info": {
      "codemirror_mode": {
        "name": "ipython",
        "version": 3
      },
      "file_extension": ".py",
      "mimetype": "text/x-python",
      "name": "python",
      "nbconvert_exporter": "python",
      "pygments_lexer": "ipython3",
      "version": "3.9.17"
    }
  },
  "nbformat": 4,
  "nbformat_minor": 0
}
