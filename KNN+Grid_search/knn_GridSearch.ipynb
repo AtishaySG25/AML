{
 "cells": [
  {
   "cell_type": "markdown",
   "metadata": {},
   "source": [
    "## Assignments\n",
    "\n",
    "### 1. train test split from scratch\n",
    "\n",
    "Create a function my_train_test_split() that takes ipnput X, y and fraction of train. And ouputs the list or tuple containing splits"
   ]
  },
  {
   "cell_type": "code",
   "execution_count": 5,
   "metadata": {},
   "outputs": [
    {
     "name": "stdout",
     "output_type": "stream",
     "text": [
      "data:\n",
      "[[ 1  2  0]\n",
      " [ 3  4  1]\n",
      " [ 5  6  1]\n",
      " [ 7  8  0]\n",
      " [ 9 10  1]\n",
      " [11 12  0]]\n"
     ]
    }
   ],
   "source": [
    "import numpy as np\n",
    "\n",
    "data = np.array([[1, 2, 0], [3, 4, 1], [5, 6, 1], [7, 8, 0], [9, 10, 1], [11, 12, 0]])\n",
    "print('data:')\n",
    "print(data)\n",
    "\n",
    "def my_train_test_split(X_train, y_train, split_percent= 0.8):\n",
    "    split = int(X.shape[0] * split_percent)\n",
    "\n",
    "    # Split the data into training and testing sets\n",
    "    X_train = data[:split, :-1]\n",
    "    y_train = data[:split, -1]\n",
    "    X_test = data[split:, :-1]\n",
    "    y_test = data[split:, -1]\n",
    "\n",
    "    return X_train, y_train, X_test, y_test"
   ]
  },
  {
   "cell_type": "code",
   "execution_count": 6,
   "metadata": {},
   "outputs": [
    {
     "name": "stdout",
     "output_type": "stream",
     "text": [
      "X_train:\n",
      "[[1 2]\n",
      " [3 4]\n",
      " [5 6]\n",
      " [7 8]]\n",
      "y_train:\n",
      "[0 1 1 0]\n",
      "X_test:\n",
      "[[ 9 10]\n",
      " [11 12]]\n",
      "y_test:\n",
      "[1 0]\n"
     ]
    }
   ],
   "source": [
    "## TODO: Your function invocation goes here\n",
    "X = data[:, :-1]  # Features\n",
    "y = data[:, -1]   # Labels\n",
    "\n",
    "train_frac = 0.8  # 80% for training, 20% for testing\n",
    "\n",
    "X_train, y_train, X_test, y_test = my_train_test_split(X, y, train_frac)\n",
    "\n",
    "# Printing the results\n",
    "print(\"X_train:\")\n",
    "print(X_train)\n",
    "print(\"y_train:\")\n",
    "print(y_train)\n",
    "print(\"X_test:\")\n",
    "print(X_test)\n",
    "print(\"y_test:\")\n",
    "print(y_test)"
   ]
  },
  {
   "cell_type": "markdown",
   "metadata": {},
   "source": [
    "### 2. kNN from scratch"
   ]
  },
  {
   "cell_type": "code",
   "execution_count": 7,
   "metadata": {},
   "outputs": [],
   "source": [
    "# KNN class that allows setting the number of neighbours and weight=uniform or distance\n",
    "class KNN:\n",
    "    def __init__(self, k = 7): #Fill this out\n",
    "        self.k = k\n",
    "        pass\n",
    "\n",
    "    def fit(self, X_train, y_train): # What is missing in function definition?\n",
    "        self.X_train = X_train\n",
    "        self.y_train = y_train\n",
    "        pass\n",
    "\n",
    "    def euclidean_distance(self, x1, x2):\n",
    "        return np.sqrt(np.sum((x1 - x2) ** 2))\n",
    "\n",
    "    def predict(self, X_test): # What is missing in function definition?\n",
    "            y_pred = [self._predict(x) for x in X_test]\n",
    "            return np.array(y_pred)\n",
    "            pass\n",
    "    \n",
    "    def _predict(self, x):\n",
    "        # Compute distances between x and all examples in the training set\n",
    "        distances = [self.euclidean_distance(x, x_train) for x_train in self.X_train]\n",
    "        \n",
    "        # Sort by distance and return indices of the first k neighbors\n",
    "        k_indices = np.argsort(distances)[:self.k]\n",
    "        \n",
    "        # Extract the labels of the k nearest neighbor training samples\n",
    "        k_nearest_labels = [self.y_train[i] for i in k_indices]\n",
    "        \n",
    "        # Return the most common class label\n",
    "        most_common = np.bincount(k_nearest_labels).argmax()\n",
    "        return most_common\n",
    "    \n",
    "    def evaluate(self, X_test, y_test):\n",
    "         y_pred = self.predict(X_test)\n",
    "         accuracy = sum(y_pred == y_test) / len(y_test)\n",
    "         return accuracy\n",
    "    "
   ]
  },
  {
   "cell_type": "code",
   "execution_count": 8,
   "metadata": {},
   "outputs": [],
   "source": [
    "knn = KNN(k=7)\n",
    "knn.fit(X_train, y_train)"
   ]
  },
  {
   "cell_type": "code",
   "execution_count": 9,
   "metadata": {},
   "outputs": [],
   "source": [
    "y_pred = knn.predict(X_test)"
   ]
  },
  {
   "cell_type": "code",
   "execution_count": 10,
   "metadata": {},
   "outputs": [
    {
     "name": "stdout",
     "output_type": "stream",
     "text": [
      "Predicted Labels:\n",
      "[0 0]\n",
      "True Labels:\n",
      "[1 0]\n"
     ]
    }
   ],
   "source": [
    "print(\"Predicted Labels:\")\n",
    "print(y_pred)\n",
    "print(\"True Labels:\")\n",
    "print(y_test)"
   ]
  },
  {
   "cell_type": "code",
   "execution_count": 11,
   "metadata": {},
   "outputs": [
    {
     "name": "stdout",
     "output_type": "stream",
     "text": [
      "[0.5, 0.5, 0.5, 0.5, 0.5, 0.5, 0.5, 0.5, 0.5, 0.5, 0.5, 0.5, 0.5, 0.5, 0.5, 0.5, 0.5, 0.5, 0.5, 0.5, 0.5, 0.5, 0.5, 0.5, 0.5, 0.5, 0.5, 0.5, 0.5]\n"
     ]
    }
   ],
   "source": [
    "accuracies = []\n",
    "ks = range(1,30)\n",
    "for k in ks:\n",
    "    knn.fit(X_train, y_train)\n",
    "    accuracy = knn.evaluate(X_test, y_test)\n",
    "    accuracies.append(accuracy)\n",
    "\n",
    "print(accuracies)"
   ]
  },
  {
   "cell_type": "code",
   "execution_count": 12,
   "metadata": {},
   "outputs": [
    {
     "name": "stdout",
     "output_type": "stream",
     "text": [
      "Accuracy: 50.00%\n"
     ]
    }
   ],
   "source": [
    "from sklearn.metrics import accuracy_score\n",
    "acc_score = accuracy_score(y_test, y_pred)\n",
    "print(f\"Accuracy: {accuracy * 100:.2f}%\")\n"
   ]
  },
  {
   "cell_type": "markdown",
   "metadata": {},
   "source": [
    "### 3. GridSearch from scratch"
   ]
  },
  {
   "cell_type": "code",
   "execution_count": 22,
   "metadata": {},
   "outputs": [],
   "source": [
    "import numpy as np\n",
    "import pandas as pd\n",
    "from sklearn.model_selection import train_test_split, GridSearchCV\n",
    "\n",
    "from sklearn.neighbors import KNeighborsClassifier\n",
    "from sklearn.metrics import accuracy_score"
   ]
  },
  {
   "cell_type": "code",
   "execution_count": 14,
   "metadata": {},
   "outputs": [
    {
     "name": "stdout",
     "output_type": "stream",
     "text": [
      "data:\n",
      "[[ 1  2  0]\n",
      " [ 3  4  1]\n",
      " [ 5  6  1]\n",
      " [ 7  8  0]\n",
      " [ 9 10  1]\n",
      " [11 12  0]]\n"
     ]
    }
   ],
   "source": [
    "data = np.array([[1, 2, 0], [3, 4, 1], [5, 6, 1], [7, 8, 0], [9, 10, 1], [11, 12, 0]])\n",
    "print('data:')\n",
    "print(data)\n",
    "\n",
    "def my_train_test_split(X_train, y_train, split_percent= 0.8):\n",
    "    split = int(X.shape[0] * split_percent)\n",
    "\n",
    "    # Split the data into training and testing sets\n",
    "    X_train = data[:split, :-1]\n",
    "    y_train = data[:split, -1]\n",
    "    X_test = data[split:, :-1]\n",
    "    y_test = data[split:, -1]\n",
    "\n",
    "    return X_train, y_train, X_test, y_test"
   ]
  },
  {
   "cell_type": "code",
   "execution_count": 15,
   "metadata": {},
   "outputs": [
    {
     "name": "stdout",
     "output_type": "stream",
     "text": [
      "X_train:\n",
      "[[1 2]\n",
      " [3 4]\n",
      " [5 6]\n",
      " [7 8]]\n",
      "y_train:\n",
      "[0 1 1 0]\n",
      "X_test:\n",
      "[[ 9 10]\n",
      " [11 12]]\n",
      "y_test:\n",
      "[1 0]\n"
     ]
    }
   ],
   "source": [
    "X = data[:, :-1]  # Features\n",
    "y = data[:, -1]   # Labels\n",
    "\n",
    "train_frac = 0.8  # 80% for training, 20% for testing\n",
    "\n",
    "X_train, y_train, X_test, y_test = my_train_test_split(X, y, train_frac)\n",
    "\n",
    "# Printing the results\n",
    "print(\"X_train:\")\n",
    "print(X_train)\n",
    "print(\"y_train:\")\n",
    "print(y_train)\n",
    "print(\"X_test:\")\n",
    "print(X_test)\n",
    "print(\"y_test:\")\n",
    "print(y_test)"
   ]
  },
  {
   "cell_type": "code",
   "execution_count": 25,
   "metadata": {},
   "outputs": [
    {
     "data": {
      "text/plain": [
       "[1, 3, 5, 7, 9]"
      ]
     },
     "execution_count": 25,
     "metadata": {},
     "output_type": "execute_result"
    }
   ],
   "source": [
    "knn = KNN()\n",
    "k_range = list(range(1,10, 2))\n",
    "dist_metrics = ['euclidian', 'manhattan']    \n",
    "k_range"
   ]
  },
  {
   "cell_type": "code",
   "execution_count": 23,
   "metadata": {},
   "outputs": [
    {
     "name": "stdout",
     "output_type": "stream",
     "text": [
      "Requirement already satisfied: scikit_learn in c:\\users\\atishay sg\\anaconda3\\envs\\aimlsem1\\lib\\site-packages (1.2.2)\n",
      "Requirement already satisfied: numpy>=1.17.3 in c:\\users\\atishay sg\\anaconda3\\envs\\aimlsem1\\lib\\site-packages (from scikit_learn) (1.23.5)\n",
      "Requirement already satisfied: scipy>=1.3.2 in c:\\users\\atishay sg\\anaconda3\\envs\\aimlsem1\\lib\\site-packages (from scikit_learn) (1.11.1)\n",
      "Requirement already satisfied: joblib>=1.1.1 in c:\\users\\atishay sg\\anaconda3\\envs\\aimlsem1\\lib\\site-packages (from scikit_learn) (1.3.2)\n",
      "Requirement already satisfied: threadpoolctl>=2.0.0 in c:\\users\\atishay sg\\anaconda3\\envs\\aimlsem1\\lib\\site-packages (from scikit_learn) (3.2.0)\n",
      "Note: you may need to restart the kernel to use updated packages.\n"
     ]
    }
   ],
   "source": [
    "pip install scikit_learn"
   ]
  },
  {
   "cell_type": "code",
   "execution_count": null,
   "metadata": {},
   "outputs": [],
   "source": [
    "# # param_grid = {('n_neighbors': [range(1,10,2)],  'dist': ['euclidian'])}\n",
    "# para_grid = dict(n_neighbors = k_range)\n",
    "# grid = GridSearchCV(knn, para_grid, cv=10, scoring= 'accuracy', return_train_score=False, verbose=1)\n",
    "# grid_search = grid.fit(X_train, y_train)"
   ]
  },
  {
   "cell_type": "code",
   "execution_count": null,
   "metadata": {},
   "outputs": [],
   "source": [
    "# params = [{\n",
    "#     'n_neighbors': [3, 5, 7, 9, 12,15,17],\n",
    "#     'weights': ['uniform', 'distance'],\n",
    "#     \\\n",
    "#     'metric': ['euclidean', 'manhattan']}]\n",
    "# grid = GridSearchCV(knn, params, cv=10, scoring= 'accuracy', return_train_score=False, verbose=1)\n",
    "# grid_search = grid.fit(X_train, y_train)"
   ]
  },
  {
   "cell_type": "code",
   "execution_count": 24,
   "metadata": {},
   "outputs": [],
   "source": [
    "best_accuracy = 0\n",
    "best_k = None\n",
    "best_metric = None"
   ]
  },
  {
   "cell_type": "code",
   "execution_count": 27,
   "metadata": {},
   "outputs": [
    {
     "ename": "TypeError",
     "evalue": "__init__() got an unexpected keyword argument 'metric'",
     "output_type": "error",
     "traceback": [
      "\u001b[1;31m---------------------------------------------------------------------------\u001b[0m",
      "\u001b[1;31mTypeError\u001b[0m                                 Traceback (most recent call last)",
      "\u001b[1;32md:\\AML\\AML-AIML\\KNN+Grid_search\\knn_GridSearch.ipynb Cell 20\u001b[0m line \u001b[0;36m6\n\u001b[0;32m      <a href='vscode-notebook-cell:/d%3A/AML/AML-AIML/KNN%2BGrid_search/knn_GridSearch.ipynb#X30sZmlsZQ%3D%3D?line=3'>4</a>\u001b[0m \u001b[39mfor\u001b[39;00m k \u001b[39min\u001b[39;00m k_range:\n\u001b[0;32m      <a href='vscode-notebook-cell:/d%3A/AML/AML-AIML/KNN%2BGrid_search/knn_GridSearch.ipynb#X30sZmlsZQ%3D%3D?line=4'>5</a>\u001b[0m     \u001b[39mfor\u001b[39;00m metric \u001b[39min\u001b[39;00m dist_metrics:\n\u001b[1;32m----> <a href='vscode-notebook-cell:/d%3A/AML/AML-AIML/KNN%2BGrid_search/knn_GridSearch.ipynb#X30sZmlsZQ%3D%3D?line=5'>6</a>\u001b[0m         knn \u001b[39m=\u001b[39m KNN(k\u001b[39m=\u001b[39;49mk, metric\u001b[39m=\u001b[39;49m euclidean_distance)\n\u001b[0;32m      <a href='vscode-notebook-cell:/d%3A/AML/AML-AIML/KNN%2BGrid_search/knn_GridSearch.ipynb#X30sZmlsZQ%3D%3D?line=6'>7</a>\u001b[0m         knn\u001b[39m.\u001b[39mfit(X_train, y_train)\n\u001b[0;32m      <a href='vscode-notebook-cell:/d%3A/AML/AML-AIML/KNN%2BGrid_search/knn_GridSearch.ipynb#X30sZmlsZQ%3D%3D?line=8'>9</a>\u001b[0m         y_pred \u001b[39m=\u001b[39m knn\u001b[39m.\u001b[39mpredict(X_test)\n",
      "\u001b[1;31mTypeError\u001b[0m: __init__() got an unexpected keyword argument 'metric'"
     ]
    }
   ],
   "source": [
    "def euclidean_distance(self, x1, x2):\n",
    "        return np.sqrt(np.sum((x1 - x2) ** 2))\n",
    "\n",
    "for k in k_range:\n",
    "    for metric in dist_metrics:\n",
    "        knn = KNN(k=k, metric= euclidean_distance)\n",
    "        knn.fit(X_train, y_train)\n",
    "\n",
    "        y_pred = knn.predict(X_test)\n",
    "\n",
    "        accuracy = accuracy_score(y_test, y_pred)\n",
    "\n",
    "        if accuracy > best_accuracy:\n",
    "            best_accuracy = accuracy\n",
    "            best_k = k\n",
    "            best_metric = metric\n",
    "            \n",
    "             \n",
    "\n"
   ]
  }
 ],
 "metadata": {
  "kernelspec": {
   "display_name": "AIMLSem1",
   "language": "python",
   "name": "python3"
  },
  "language_info": {
   "codemirror_mode": {
    "name": "ipython",
    "version": 3
   },
   "file_extension": ".py",
   "mimetype": "text/x-python",
   "name": "python",
   "nbconvert_exporter": "python",
   "pygments_lexer": "ipython3",
   "version": "3.9.17"
  },
  "orig_nbformat": 4
 },
 "nbformat": 4,
 "nbformat_minor": 2
}
